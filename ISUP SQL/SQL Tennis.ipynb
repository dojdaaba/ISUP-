{
 "cells": [
  {
   "cell_type": "code",
   "execution_count": 1,
   "metadata": {},
   "outputs": [
    {
     "data": {
      "text/plain": [
       "<sqlite3.Cursor at 0x1aa95629810>"
      ]
     },
     "execution_count": 1,
     "metadata": {},
     "output_type": "execute_result"
    }
   ],
   "source": [
    "import sqlite3\n",
    "# on va se connecter à une base de données SQL vide\n",
    "# SQLite stocke la BDD dans un simple fichier\n",
    "filepath = \"./Universite98459.db\"\n",
    "open(filepath, 'w').close() #crée un fichier vide\n",
    "CreateDataBase = sqlite3.connect(filepath)\n",
    "\n",
    "QueryCurs = CreateDataBase.cursor()\n",
    "QueryCurs.execute(\"PRAGMA foreign_keys=1\")"
   ]
  },
  {
   "cell_type": "code",
   "execution_count": 2,
   "metadata": {},
   "outputs": [],
   "source": [
    "# On définit une fonction de création de table\n",
    "def CreateTableTd(nom_bdd):\n",
    "    QueryCurs.execute('''CREATE TABLE IF NOT EXISTS ''' + nom_bdd + '''\n",
    "    (Diplome varchar(20) NOT NULL,\n",
    "       Matiere varchar(20) NOT NULL,\n",
    "       NoTD int NOT NULL,\n",
    "       Jour varchar(8) CHECK(jour IN ('Lundi','Mardi','Mercredi','Jeudi','Vendredi','Samedi')),\n",
    "       Heure varchar(20) NOT NULL,\n",
    "       Salle int NOT NULL,\n",
    "       NoEnseignant int NOT NULL,\n",
    "       constraint PK primary key(NoTD,Matiere,Diplome), /* car les étudiants choisissent un TD et un seul par module */\n",
    "constraint unicite_TD unique(Heure, Salle,Jour), /* les TD se déroule de façon hebdomadaire */\n",
    "constraint unicite_TD1 unique (NoEnseignant, Jour, Heure))''')"
   ]
  },
  {
   "cell_type": "code",
   "execution_count": 3,
   "metadata": {},
   "outputs": [],
   "source": [
    "# On définit une fonction qui permet d'ajouter des observations dans la table    \n",
    "def AddEntry(nom_bdd, Diplome,Matiere,NoTD,Jour,Heure,Salle,NoEnseignant):\n",
    "    QueryCurs.execute('''INSERT INTO ''' + nom_bdd + ''' \n",
    "    (Diplome,Matiere,NoTD,Jour,Heure,Salle,NoEnseignant) VALUES (?,?,?,?,?,?,?)''',(Diplome,Matiere,NoTD,Jour,Heure,Salle,NoEnseignant))\n",
    "    \n",
    "def AddEntries(nom_bdd, data):\n",
    "    \"\"\" data : list with (Diplome,Matiere,NoTD,Jour,Heure,Salle,NoEnseignant) tuples to insert\n",
    "    \"\"\"\n",
    "    QueryCurs.executemany('''INSERT INTO ''' + nom_bdd + ''' \n",
    "    (Diplome,Matiere,NoTD,Jour,Heure,Salle,NoEnseignant) VALUES (?,?,?,?,?,?,?)''',data)\n",
    "    "
   ]
  },
  {
   "cell_type": "code",
   "execution_count": 4,
   "metadata": {},
   "outputs": [],
   "source": [
    "QueryCurs.execute(\"DROP TABLE IF EXISTS Inscription\")    \n",
    "QueryCurs.execute(\"DROP TABLE IF EXISTS Td\")    \n",
    "CreateTableTd('Td')\n",
    "\n",
    "AddEntry('Td','Licence','BD',1,'Lundi','08H45',232,11111)\n",
    "AddEntries('Td',\n",
    "    [('Licence','ALGO',2,'Mercredi','08H35',235,22222),\n",
    "    ('Licence','ALGO',3,'Lundi','08H45',237,22222),\n",
    "    ('Master','STAT',5,'Jeudi','08H45',240,44444),\n",
    "    ('Master','PROBA',4,'Lundi','08H50',240,55555)])\n",
    "\n",
    "CreateDataBase.commit() # pas de duplication "
   ]
  },
  {
   "cell_type": "code",
   "execution_count": 5,
   "metadata": {},
   "outputs": [
    {
     "name": "stdout",
     "output_type": "stream",
     "text": [
      "[('Licence', 'BD', 1, 'Lundi', '08H45', 232, 11111), ('Licence', 'ALGO', 2, 'Mercredi', '08H35', 235, 22222), ('Licence', 'ALGO', 3, 'Lundi', '08H45', 237, 22222), ('Master', 'STAT', 5, 'Jeudi', '08H45', 240, 44444), ('Master', 'PROBA', 4, 'Lundi', '08H50', 240, 55555)]\n"
     ]
    }
   ],
   "source": [
    "QueryCurs.execute('SELECT * FROM Td')  # afficher la table\n",
    "Values = QueryCurs.fetchall()\n",
    "print(Values)"
   ]
  },
  {
   "cell_type": "code",
   "execution_count": 8,
   "metadata": {},
   "outputs": [
    {
     "name": "stdout",
     "output_type": "stream",
     "text": [
      "En utilisant la méthode read_sql_query \n",
      "    Diplome Matiere  NoTD      Jour  Heure  Salle  NoEnseignant\n",
      "0  Licence      BD     1     Lundi  08H45    232         11111\n",
      "1  Licence    ALGO     2  Mercredi  08H35    235         22222\n",
      "2  Licence    ALGO     3     Lundi  08H45    237         22222\n",
      "3   Master    STAT     5     Jeudi  08H45    240         44444\n",
      "4   Master   PROBA     4     Lundi  08H50    240         55555 \n",
      "\n"
     ]
    }
   ],
   "source": [
    "import pandas as pd\n",
    "# méthode SQL Query\n",
    "df1 = pd.read_sql_query('SELECT * FROM Td', CreateDataBase)\n",
    "print(\"En utilisant la méthode read_sql_query \\n\", df1.head(), \"\\n\")"
   ]
  },
  {
   "cell_type": "code",
   "execution_count": 9,
   "metadata": {},
   "outputs": [],
   "source": [
    "df1.to_csv(r'Td.csv', index = False)   # exporter en csv "
   ]
  },
  {
   "cell_type": "code",
   "execution_count": 460,
   "metadata": {},
   "outputs": [
    {
     "ename": "NameError",
     "evalue": "name 'NULL' is not defined",
     "output_type": "error",
     "traceback": [
      "\u001b[1;31m---------------------------------------------------------------------------\u001b[0m",
      "\u001b[1;31mNameError\u001b[0m                                 Traceback (most recent call last)",
      "\u001b[1;32m<ipython-input-460-dcf6a8619bc3>\u001b[0m in \u001b[0;36m<module>\u001b[1;34m\u001b[0m\n\u001b[0;32m      1\u001b[0m \u001b[1;31m#/*Impossible d'insérer la valeur NULL dans la colonne 'Salle', table 'master.dbo.TD'*/\u001b[0m\u001b[1;33m\u001b[0m\u001b[1;33m\u001b[0m\u001b[1;33m\u001b[0m\u001b[0m\n\u001b[1;32m----> 2\u001b[1;33m \u001b[0mAddEntry\u001b[0m\u001b[1;33m(\u001b[0m\u001b[1;34m'Td'\u001b[0m\u001b[1;33m,\u001b[0m\u001b[1;34m'Licence'\u001b[0m\u001b[1;33m,\u001b[0m\u001b[1;34m'STAT'\u001b[0m\u001b[1;33m,\u001b[0m\u001b[1;36m3\u001b[0m\u001b[1;33m,\u001b[0m\u001b[1;34m'Jeudi'\u001b[0m\u001b[1;33m,\u001b[0m\u001b[1;34m'08H45'\u001b[0m\u001b[1;33m,\u001b[0m\u001b[0mNULL\u001b[0m\u001b[1;33m,\u001b[0m\u001b[1;36m44444\u001b[0m\u001b[1;33m)\u001b[0m\u001b[1;33m\u001b[0m\u001b[1;33m\u001b[0m\u001b[0m\n\u001b[0m",
      "\u001b[1;31mNameError\u001b[0m: name 'NULL' is not defined"
     ]
    }
   ],
   "source": [
    "#/*Impossible d'insérer la valeur NULL dans la colonne 'Salle', table 'master.dbo.TD'*/\n",
    "AddEntry('Td','Licence','STAT',3,'Jeudi','08H45',NULL,44444)"
   ]
  },
  {
   "cell_type": "code",
   "execution_count": 461,
   "metadata": {},
   "outputs": [
    {
     "ename": "IntegrityError",
     "evalue": "UNIQUE constraint failed: Td.NoEnseignant, Td.Jour, Td.Heure",
     "output_type": "error",
     "traceback": [
      "\u001b[1;31m---------------------------------------------------------------------------\u001b[0m",
      "\u001b[1;31mIntegrityError\u001b[0m                            Traceback (most recent call last)",
      "\u001b[1;32m<ipython-input-461-9627dcb046fa>\u001b[0m in \u001b[0;36m<module>\u001b[1;34m\u001b[0m\n\u001b[0;32m      1\u001b[0m \u001b[1;31m#/* Valeur de clé primaire dupliquée : ('Master','PROBA','4').*/\u001b[0m\u001b[1;33m\u001b[0m\u001b[1;33m\u001b[0m\u001b[1;33m\u001b[0m\u001b[0m\n\u001b[1;32m----> 2\u001b[1;33m \u001b[0mAddEntry\u001b[0m\u001b[1;33m(\u001b[0m\u001b[1;34m'Td'\u001b[0m\u001b[1;33m,\u001b[0m\u001b[1;34m'Master'\u001b[0m\u001b[1;33m,\u001b[0m\u001b[1;34m'PROBA'\u001b[0m\u001b[1;33m,\u001b[0m\u001b[1;36m4\u001b[0m\u001b[1;33m,\u001b[0m\u001b[1;34m'Jeudi'\u001b[0m\u001b[1;33m,\u001b[0m\u001b[1;34m'08H45'\u001b[0m\u001b[1;33m,\u001b[0m\u001b[1;36m240\u001b[0m\u001b[1;33m,\u001b[0m\u001b[1;36m44444\u001b[0m\u001b[1;33m)\u001b[0m\u001b[1;33m\u001b[0m\u001b[1;33m\u001b[0m\u001b[0m\n\u001b[0m",
      "\u001b[1;32m<ipython-input-457-643089d0676e>\u001b[0m in \u001b[0;36mAddEntry\u001b[1;34m(nom_bdd, Diplome, Matiere, NoTD, Jour, Heure, Salle, NoEnseignant)\u001b[0m\n\u001b[0;32m      2\u001b[0m \u001b[1;32mdef\u001b[0m \u001b[0mAddEntry\u001b[0m\u001b[1;33m(\u001b[0m\u001b[0mnom_bdd\u001b[0m\u001b[1;33m,\u001b[0m \u001b[0mDiplome\u001b[0m\u001b[1;33m,\u001b[0m\u001b[0mMatiere\u001b[0m\u001b[1;33m,\u001b[0m\u001b[0mNoTD\u001b[0m\u001b[1;33m,\u001b[0m\u001b[0mJour\u001b[0m\u001b[1;33m,\u001b[0m\u001b[0mHeure\u001b[0m\u001b[1;33m,\u001b[0m\u001b[0mSalle\u001b[0m\u001b[1;33m,\u001b[0m\u001b[0mNoEnseignant\u001b[0m\u001b[1;33m)\u001b[0m\u001b[1;33m:\u001b[0m\u001b[1;33m\u001b[0m\u001b[1;33m\u001b[0m\u001b[0m\n\u001b[0;32m      3\u001b[0m     QueryCurs.execute('''INSERT INTO ''' + nom_bdd + ''' \n\u001b[1;32m----> 4\u001b[1;33m     (Diplome,Matiere,NoTD,Jour,Heure,Salle,NoEnseignant) VALUES (?,?,?,?,?,?,?)''',(Diplome,Matiere,NoTD,Jour,Heure,Salle,NoEnseignant))\n\u001b[0m\u001b[0;32m      5\u001b[0m \u001b[1;33m\u001b[0m\u001b[0m\n\u001b[0;32m      6\u001b[0m \u001b[1;32mdef\u001b[0m \u001b[0mAddEntries\u001b[0m\u001b[1;33m(\u001b[0m\u001b[0mnom_bdd\u001b[0m\u001b[1;33m,\u001b[0m \u001b[0mdata\u001b[0m\u001b[1;33m)\u001b[0m\u001b[1;33m:\u001b[0m\u001b[1;33m\u001b[0m\u001b[1;33m\u001b[0m\u001b[0m\n",
      "\u001b[1;31mIntegrityError\u001b[0m: UNIQUE constraint failed: Td.NoEnseignant, Td.Jour, Td.Heure"
     ]
    }
   ],
   "source": [
    "#/* Valeur de clé primaire dupliquée : ('Master','PROBA','4').*/\n",
    "AddEntry('Td','Master','PROBA',4,'Jeudi','08H45',240,44444)"
   ]
  },
  {
   "cell_type": "code",
   "execution_count": 462,
   "metadata": {},
   "outputs": [
    {
     "ename": "IntegrityError",
     "evalue": "UNIQUE constraint failed: Td.NoEnseignant, Td.Jour, Td.Heure",
     "output_type": "error",
     "traceback": [
      "\u001b[1;31m---------------------------------------------------------------------------\u001b[0m",
      "\u001b[1;31mIntegrityError\u001b[0m                            Traceback (most recent call last)",
      "\u001b[1;32m<ipython-input-462-0b7319f74a99>\u001b[0m in \u001b[0;36m<module>\u001b[1;34m\u001b[0m\n\u001b[0;32m      1\u001b[0m \u001b[1;31m#/*Valeur de clé unique dupliquée : (11111, Lundi, 08H45). un enseignant ayant 2 cours a donné au meme moment*/\u001b[0m\u001b[1;33m\u001b[0m\u001b[1;33m\u001b[0m\u001b[1;33m\u001b[0m\u001b[0m\n\u001b[1;32m----> 2\u001b[1;33m \u001b[0mAddEntry\u001b[0m\u001b[1;33m(\u001b[0m\u001b[1;34m'Td'\u001b[0m\u001b[1;33m,\u001b[0m\u001b[1;34m'Licence'\u001b[0m\u001b[1;33m,\u001b[0m\u001b[1;34m'Stat'\u001b[0m\u001b[1;33m,\u001b[0m\u001b[1;36m1\u001b[0m\u001b[1;33m,\u001b[0m\u001b[1;34m'Lundi'\u001b[0m\u001b[1;33m,\u001b[0m\u001b[1;34m'08H45'\u001b[0m\u001b[1;33m,\u001b[0m\u001b[1;36m237\u001b[0m\u001b[1;33m,\u001b[0m\u001b[1;36m11111\u001b[0m\u001b[1;33m)\u001b[0m\u001b[1;33m\u001b[0m\u001b[1;33m\u001b[0m\u001b[0m\n\u001b[0m",
      "\u001b[1;32m<ipython-input-457-643089d0676e>\u001b[0m in \u001b[0;36mAddEntry\u001b[1;34m(nom_bdd, Diplome, Matiere, NoTD, Jour, Heure, Salle, NoEnseignant)\u001b[0m\n\u001b[0;32m      2\u001b[0m \u001b[1;32mdef\u001b[0m \u001b[0mAddEntry\u001b[0m\u001b[1;33m(\u001b[0m\u001b[0mnom_bdd\u001b[0m\u001b[1;33m,\u001b[0m \u001b[0mDiplome\u001b[0m\u001b[1;33m,\u001b[0m\u001b[0mMatiere\u001b[0m\u001b[1;33m,\u001b[0m\u001b[0mNoTD\u001b[0m\u001b[1;33m,\u001b[0m\u001b[0mJour\u001b[0m\u001b[1;33m,\u001b[0m\u001b[0mHeure\u001b[0m\u001b[1;33m,\u001b[0m\u001b[0mSalle\u001b[0m\u001b[1;33m,\u001b[0m\u001b[0mNoEnseignant\u001b[0m\u001b[1;33m)\u001b[0m\u001b[1;33m:\u001b[0m\u001b[1;33m\u001b[0m\u001b[1;33m\u001b[0m\u001b[0m\n\u001b[0;32m      3\u001b[0m     QueryCurs.execute('''INSERT INTO ''' + nom_bdd + ''' \n\u001b[1;32m----> 4\u001b[1;33m     (Diplome,Matiere,NoTD,Jour,Heure,Salle,NoEnseignant) VALUES (?,?,?,?,?,?,?)''',(Diplome,Matiere,NoTD,Jour,Heure,Salle,NoEnseignant))\n\u001b[0m\u001b[0;32m      5\u001b[0m \u001b[1;33m\u001b[0m\u001b[0m\n\u001b[0;32m      6\u001b[0m \u001b[1;32mdef\u001b[0m \u001b[0mAddEntries\u001b[0m\u001b[1;33m(\u001b[0m\u001b[0mnom_bdd\u001b[0m\u001b[1;33m,\u001b[0m \u001b[0mdata\u001b[0m\u001b[1;33m)\u001b[0m\u001b[1;33m:\u001b[0m\u001b[1;33m\u001b[0m\u001b[1;33m\u001b[0m\u001b[0m\n",
      "\u001b[1;31mIntegrityError\u001b[0m: UNIQUE constraint failed: Td.NoEnseignant, Td.Jour, Td.Heure"
     ]
    }
   ],
   "source": [
    "#/*Valeur de clé unique dupliquée : (11111, Lundi, 08H45). un enseignant ayant 2 cours a donné au meme moment*/\n",
    "AddEntry('Td','Licence','Stat',1,'Lundi','08H45',237,11111)"
   ]
  },
  {
   "cell_type": "code",
   "execution_count": 463,
   "metadata": {},
   "outputs": [
    {
     "ename": "IntegrityError",
     "evalue": "UNIQUE constraint failed: Td.Heure, Td.Salle, Td.Jour",
     "output_type": "error",
     "traceback": [
      "\u001b[1;31m---------------------------------------------------------------------------\u001b[0m",
      "\u001b[1;31mIntegrityError\u001b[0m                            Traceback (most recent call last)",
      "\u001b[1;32m<ipython-input-463-96df8dca16d0>\u001b[0m in \u001b[0;36m<module>\u001b[1;34m\u001b[0m\n\u001b[0;32m      1\u001b[0m \u001b[1;31m#/* Valeur de clé dupliquée : (08H50, 240, Lundi).on a deux cours le meme jour a la meme heure et dans la meme salle */\u001b[0m\u001b[1;33m\u001b[0m\u001b[1;33m\u001b[0m\u001b[1;33m\u001b[0m\u001b[0m\n\u001b[1;32m----> 2\u001b[1;33m \u001b[0mAddEntry\u001b[0m\u001b[1;33m(\u001b[0m\u001b[1;34m'Td'\u001b[0m\u001b[1;33m,\u001b[0m\u001b[1;34m'Licence'\u001b[0m\u001b[1;33m,\u001b[0m\u001b[1;34m'ALGO'\u001b[0m\u001b[1;33m,\u001b[0m\u001b[1;36m1\u001b[0m\u001b[1;33m,\u001b[0m\u001b[1;34m'Lundi'\u001b[0m\u001b[1;33m,\u001b[0m\u001b[1;34m'08H50'\u001b[0m\u001b[1;33m,\u001b[0m\u001b[1;36m240\u001b[0m\u001b[1;33m,\u001b[0m\u001b[1;36m33333\u001b[0m\u001b[1;33m)\u001b[0m\u001b[1;33m\u001b[0m\u001b[1;33m\u001b[0m\u001b[0m\n\u001b[0m",
      "\u001b[1;32m<ipython-input-457-643089d0676e>\u001b[0m in \u001b[0;36mAddEntry\u001b[1;34m(nom_bdd, Diplome, Matiere, NoTD, Jour, Heure, Salle, NoEnseignant)\u001b[0m\n\u001b[0;32m      2\u001b[0m \u001b[1;32mdef\u001b[0m \u001b[0mAddEntry\u001b[0m\u001b[1;33m(\u001b[0m\u001b[0mnom_bdd\u001b[0m\u001b[1;33m,\u001b[0m \u001b[0mDiplome\u001b[0m\u001b[1;33m,\u001b[0m\u001b[0mMatiere\u001b[0m\u001b[1;33m,\u001b[0m\u001b[0mNoTD\u001b[0m\u001b[1;33m,\u001b[0m\u001b[0mJour\u001b[0m\u001b[1;33m,\u001b[0m\u001b[0mHeure\u001b[0m\u001b[1;33m,\u001b[0m\u001b[0mSalle\u001b[0m\u001b[1;33m,\u001b[0m\u001b[0mNoEnseignant\u001b[0m\u001b[1;33m)\u001b[0m\u001b[1;33m:\u001b[0m\u001b[1;33m\u001b[0m\u001b[1;33m\u001b[0m\u001b[0m\n\u001b[0;32m      3\u001b[0m     QueryCurs.execute('''INSERT INTO ''' + nom_bdd + ''' \n\u001b[1;32m----> 4\u001b[1;33m     (Diplome,Matiere,NoTD,Jour,Heure,Salle,NoEnseignant) VALUES (?,?,?,?,?,?,?)''',(Diplome,Matiere,NoTD,Jour,Heure,Salle,NoEnseignant))\n\u001b[0m\u001b[0;32m      5\u001b[0m \u001b[1;33m\u001b[0m\u001b[0m\n\u001b[0;32m      6\u001b[0m \u001b[1;32mdef\u001b[0m \u001b[0mAddEntries\u001b[0m\u001b[1;33m(\u001b[0m\u001b[0mnom_bdd\u001b[0m\u001b[1;33m,\u001b[0m \u001b[0mdata\u001b[0m\u001b[1;33m)\u001b[0m\u001b[1;33m:\u001b[0m\u001b[1;33m\u001b[0m\u001b[1;33m\u001b[0m\u001b[0m\n",
      "\u001b[1;31mIntegrityError\u001b[0m: UNIQUE constraint failed: Td.Heure, Td.Salle, Td.Jour"
     ]
    }
   ],
   "source": [
    "#/* Valeur de clé dupliquée : (08H50, 240, Lundi).on a deux cours le meme jour a la meme heure et dans la meme salle */\n",
    "AddEntry('Td','Licence','ALGO',1,'Lundi','08H50',240,33333)"
   ]
  },
  {
   "cell_type": "code",
   "execution_count": 464,
   "metadata": {},
   "outputs": [],
   "source": [
    "# On définit une fonction de création de table\n",
    "def CreateTableInsc(nom_bdd):\n",
    "    QueryCurs.execute('''CREATE TABLE IF NOT EXISTS ''' + nom_bdd + '''\n",
    "    (NoEtudiant int  ,\n",
    "       Diplome varchar(20) NOT NULL,\n",
    "       Matiere varchar(20) NOT NULL,\n",
    "       NoTD int NOT NULL,\n",
    "       Date_inscription date NOT NULL,\n",
    "       constraint fk_INSCRIPTION Foreign Key (NoTD,Matiere,Diplome) references Td(NoTD,Matiere,Diplome)ON DELETE CASCADE, \n",
    "\n",
    "constraint PK2 primary key(NoEtudiant,Diplome,Matiere) )''')"
   ]
  },
  {
   "cell_type": "code",
   "execution_count": 465,
   "metadata": {},
   "outputs": [],
   "source": [
    "CreateTableInsc('Inscription')"
   ]
  },
  {
   "cell_type": "code",
   "execution_count": null,
   "metadata": {},
   "outputs": [],
   "source": []
  },
  {
   "cell_type": "code",
   "execution_count": 466,
   "metadata": {},
   "outputs": [
    {
     "data": {
      "text/plain": [
       "<sqlite3.Cursor at 0x1c18687aea0>"
      ]
     },
     "execution_count": 466,
     "metadata": {},
     "output_type": "execute_result"
    }
   ],
   "source": [
    "QueryCurs.execute('''INSERT INTO Inscription VALUES (2020825,'Licence', 'BD', 1, '22-10-2020')''')\n",
    "QueryCurs.execute('''INSERT INTO Inscription VALUES (2020825,'Licence', 'ALGO', 2, '22-10-2020')''')\n",
    "QueryCurs.execute('''INSERT INTO Inscription VALUES (2020830,'Licence', 'ALGO', 2, '22-11-2020')''')\n",
    "QueryCurs.execute('''INSERT INTO Inscription VALUES (2020837,'Master', 'STAT', 5, '18-12-2020')''')\n",
    "QueryCurs.execute('''INSERT INTO Inscription VALUES (2020840,'Master', 'STAT', 5, '18-12-2020')''')\n"
   ]
  },
  {
   "cell_type": "code",
   "execution_count": 467,
   "metadata": {},
   "outputs": [],
   "source": [
    "CreateDataBase.commit() # pas de duplication "
   ]
  },
  {
   "cell_type": "code",
   "execution_count": 468,
   "metadata": {},
   "outputs": [
    {
     "name": "stdout",
     "output_type": "stream",
     "text": [
      "[(2020825, 'Licence', 'BD', 1, '22-10-2020'), (2020825, 'Licence', 'ALGO', 2, '22-10-2020'), (2020830, 'Licence', 'ALGO', 2, '22-11-2020'), (2020837, 'Master', 'STAT', 5, '18-12-2020'), (2020840, 'Master', 'STAT', 5, '18-12-2020')]\n"
     ]
    }
   ],
   "source": [
    "QueryCurs.execute('SELECT * FROM Inscription')  # afficher la table\n",
    "Values = QueryCurs.fetchall()\n",
    "print(Values)"
   ]
  },
  {
   "cell_type": "code",
   "execution_count": 469,
   "metadata": {},
   "outputs": [
    {
     "ename": "IntegrityError",
     "evalue": "FOREIGN KEY constraint failed",
     "output_type": "error",
     "traceback": [
      "\u001b[1;31m---------------------------------------------------------------------------\u001b[0m",
      "\u001b[1;31mIntegrityError\u001b[0m                            Traceback (most recent call last)",
      "\u001b[1;32m<ipython-input-469-2a5955344945>\u001b[0m in \u001b[0;36m<module>\u001b[1;34m\u001b[0m\n\u001b[0;32m      1\u001b[0m \u001b[1;31m#L'instruction INSERT est en conflit avec la contrainte FOREIGN KEY \"fk_INSCRIPTION\" de la clé étrangère.\u001b[0m\u001b[1;33m\u001b[0m\u001b[1;33m\u001b[0m\u001b[1;33m\u001b[0m\u001b[0m\n\u001b[0;32m      2\u001b[0m \u001b[1;31m#Le conflit s'est produit dans la base de données \"master\", table  CAR il n'existe pas de NoTD=8 dans la table TD*/\u001b[0m\u001b[1;33m\u001b[0m\u001b[1;33m\u001b[0m\u001b[1;33m\u001b[0m\u001b[0m\n\u001b[1;32m----> 3\u001b[1;33m \u001b[0mQueryCurs\u001b[0m\u001b[1;33m.\u001b[0m\u001b[0mexecute\u001b[0m\u001b[1;33m(\u001b[0m\u001b[1;34m'''INSERT INTO Inscription  VALUES (2900830,'Licence', 'PROBA', 8, '22-09-2010')'''\u001b[0m\u001b[1;33m)\u001b[0m\u001b[1;33m\u001b[0m\u001b[1;33m\u001b[0m\u001b[0m\n\u001b[0m\u001b[0;32m      4\u001b[0m \u001b[1;33m\u001b[0m\u001b[0m\n\u001b[0;32m      5\u001b[0m \u001b[1;33m\u001b[0m\u001b[0m\n",
      "\u001b[1;31mIntegrityError\u001b[0m: FOREIGN KEY constraint failed"
     ]
    }
   ],
   "source": [
    "\n",
    "#L'instruction INSERT est en conflit avec la contrainte FOREIGN KEY \"fk_INSCRIPTION\" de la clé étrangère. \n",
    "#Le conflit s'est produit dans la base de données \"master\", table  CAR il n'existe pas de NoTD=8 dans la table TD*/\n",
    "QueryCurs.execute('''INSERT INTO Inscription  VALUES (2900830,'Licence', 'PROBA', 8, '22-09-2010')''')\n",
    "\n",
    "\n"
   ]
  },
  {
   "cell_type": "code",
   "execution_count": 470,
   "metadata": {},
   "outputs": [
    {
     "ename": "IntegrityError",
     "evalue": "FOREIGN KEY constraint failed",
     "output_type": "error",
     "traceback": [
      "\u001b[1;31m---------------------------------------------------------------------------\u001b[0m",
      "\u001b[1;31mIntegrityError\u001b[0m                            Traceback (most recent call last)",
      "\u001b[1;32m<ipython-input-470-55ac7e793b88>\u001b[0m in \u001b[0;36m<module>\u001b[1;34m\u001b[0m\n\u001b[0;32m      1\u001b[0m \u001b[1;31m#/* conflit avec la contrainte FOREIGN KEY \"fk_INSCRIPTION car il n'existe pas de matiere VBA avec un numero de TD8 dans la table TD*/\u001b[0m\u001b[1;33m\u001b[0m\u001b[1;33m\u001b[0m\u001b[1;33m\u001b[0m\u001b[0m\n\u001b[1;32m----> 2\u001b[1;33m \u001b[0mQueryCurs\u001b[0m\u001b[1;33m.\u001b[0m\u001b[0mexecute\u001b[0m\u001b[1;33m(\u001b[0m\u001b[1;34m'''INSERT INTO Inscription  VALUES (2900830,'Licence', 'VBA', 8, '22-09-2010')'''\u001b[0m\u001b[1;33m)\u001b[0m\u001b[1;33m\u001b[0m\u001b[1;33m\u001b[0m\u001b[0m\n\u001b[0m",
      "\u001b[1;31mIntegrityError\u001b[0m: FOREIGN KEY constraint failed"
     ]
    }
   ],
   "source": [
    "#/* conflit avec la contrainte FOREIGN KEY \"fk_INSCRIPTION car il n'existe pas de matiere VBA avec un numero de TD8 dans la table TD*/\n",
    "QueryCurs.execute('''INSERT INTO Inscription  VALUES (2900830,'Licence', 'VBA', 8, '22-09-2010')''')"
   ]
  },
  {
   "cell_type": "code",
   "execution_count": 471,
   "metadata": {},
   "outputs": [
    {
     "ename": "IntegrityError",
     "evalue": "FOREIGN KEY constraint failed",
     "output_type": "error",
     "traceback": [
      "\u001b[1;31m---------------------------------------------------------------------------\u001b[0m",
      "\u001b[1;31mIntegrityError\u001b[0m                            Traceback (most recent call last)",
      "\u001b[1;32m<ipython-input-471-7894bf2ee2de>\u001b[0m in \u001b[0;36m<module>\u001b[1;34m\u001b[0m\n\u001b[0;32m      1\u001b[0m \u001b[1;31m# conflit avec la contrainte FOREIGN KEY \"fk_INSCRIPTION car il n'existe pas de matiere\u001b[0m\u001b[1;33m\u001b[0m\u001b[1;33m\u001b[0m\u001b[1;33m\u001b[0m\u001b[0m\n\u001b[0;32m      2\u001b[0m \u001b[1;31m# VBA avec un numero de TD8 dans la table TD*/\u001b[0m\u001b[1;33m\u001b[0m\u001b[1;33m\u001b[0m\u001b[1;33m\u001b[0m\u001b[0m\n\u001b[1;32m----> 3\u001b[1;33m \u001b[0mQueryCurs\u001b[0m\u001b[1;33m.\u001b[0m\u001b[0mexecute\u001b[0m\u001b[1;33m(\u001b[0m\u001b[1;34m'''INSERT INTO Inscription  VALUES  (2900830,'Licence', 'VBA', 8, '22-09-2010')'''\u001b[0m\u001b[1;33m)\u001b[0m\u001b[1;33m\u001b[0m\u001b[1;33m\u001b[0m\u001b[0m\n\u001b[0m",
      "\u001b[1;31mIntegrityError\u001b[0m: FOREIGN KEY constraint failed"
     ]
    }
   ],
   "source": [
    "# conflit avec la contrainte FOREIGN KEY \"fk_INSCRIPTION car il n'existe pas de matiere \n",
    "# VBA avec un numero de TD8 dans la table TD*/\n",
    "QueryCurs.execute('''INSERT INTO Inscription  VALUES  (2900830,'Licence', 'VBA', 8, '22-09-2010')''')"
   ]
  },
  {
   "cell_type": "code",
   "execution_count": 472,
   "metadata": {},
   "outputs": [
    {
     "ename": "IntegrityError",
     "evalue": "FOREIGN KEY constraint failed",
     "output_type": "error",
     "traceback": [
      "\u001b[1;31m---------------------------------------------------------------------------\u001b[0m",
      "\u001b[1;31mIntegrityError\u001b[0m                            Traceback (most recent call last)",
      "\u001b[1;32m<ipython-input-472-2427a0b249d2>\u001b[0m in \u001b[0;36m<module>\u001b[1;34m\u001b[0m\n\u001b[0;32m      1\u001b[0m \u001b[1;31m# conflit avec la contrainte FOREIGN KEY \"fk_INSCRIPTION car il n'existe pas de diplome Doctorat dans la table Td*/\u001b[0m\u001b[1;33m\u001b[0m\u001b[1;33m\u001b[0m\u001b[1;33m\u001b[0m\u001b[0m\n\u001b[1;32m----> 2\u001b[1;33m \u001b[0mQueryCurs\u001b[0m\u001b[1;33m.\u001b[0m\u001b[0mexecute\u001b[0m\u001b[1;33m(\u001b[0m\u001b[1;34m'''INSERT INTO Inscription  VALUES  (2900830,'Doctorat', 'Stat', 8, '18-09-2010')'''\u001b[0m\u001b[1;33m)\u001b[0m\u001b[1;33m\u001b[0m\u001b[1;33m\u001b[0m\u001b[0m\n\u001b[0m",
      "\u001b[1;31mIntegrityError\u001b[0m: FOREIGN KEY constraint failed"
     ]
    }
   ],
   "source": [
    "# conflit avec la contrainte FOREIGN KEY \"fk_INSCRIPTION car il n'existe pas de diplome Doctorat dans la table Td*/\n",
    "QueryCurs.execute('''INSERT INTO Inscription  VALUES  (2900830,'Doctorat', 'Stat', 8, '18-09-2010')''')"
   ]
  },
  {
   "cell_type": "code",
   "execution_count": 473,
   "metadata": {},
   "outputs": [
    {
     "ename": "IntegrityError",
     "evalue": "UNIQUE constraint failed: Inscription.NoEtudiant, Inscription.Diplome, Inscription.Matiere",
     "output_type": "error",
     "traceback": [
      "\u001b[1;31m---------------------------------------------------------------------------\u001b[0m",
      "\u001b[1;31mIntegrityError\u001b[0m                            Traceback (most recent call last)",
      "\u001b[1;32m<ipython-input-473-40f417de8d0c>\u001b[0m in \u001b[0;36m<module>\u001b[1;34m\u001b[0m\n\u001b[0;32m      1\u001b[0m \u001b[1;31m# Violation de la contrainte primary key  Valeur de clé primaire dupliquée : (2020825, Licence, ALGO). et aussi (2020825, Master,STAT) */\u001b[0m\u001b[1;33m\u001b[0m\u001b[1;33m\u001b[0m\u001b[1;33m\u001b[0m\u001b[0m\n\u001b[0;32m      2\u001b[0m \u001b[1;31m#/*update INSCRIPTION set NoEtudiant=2020815;*/\u001b[0m\u001b[1;33m\u001b[0m\u001b[1;33m\u001b[0m\u001b[1;33m\u001b[0m\u001b[0m\n\u001b[1;32m----> 3\u001b[1;33m \u001b[0mQueryCurs\u001b[0m\u001b[1;33m.\u001b[0m\u001b[0mexecute\u001b[0m\u001b[1;33m(\u001b[0m\u001b[1;34m'''INSERT INTO Inscription  VALUES  (2020825, 'Licence', 'ALGO', 2, '18-09-2010')'''\u001b[0m\u001b[1;33m)\u001b[0m\u001b[1;33m\u001b[0m\u001b[1;33m\u001b[0m\u001b[0m\n\u001b[0m",
      "\u001b[1;31mIntegrityError\u001b[0m: UNIQUE constraint failed: Inscription.NoEtudiant, Inscription.Diplome, Inscription.Matiere"
     ]
    }
   ],
   "source": [
    "# Violation de la contrainte primary key  Valeur de clé primaire dupliquée : (2020825, Licence, ALGO). et aussi (2020825, Master,STAT) */\n",
    "#/*update INSCRIPTION set NoEtudiant=2020815;*/\n",
    "QueryCurs.execute('''INSERT INTO Inscription  VALUES  (2020825, 'Licence', 'ALGO', 2, '18-09-2010')''')\n"
   ]
  },
  {
   "cell_type": "code",
   "execution_count": 474,
   "metadata": {},
   "outputs": [
    {
     "name": "stdout",
     "output_type": "stream",
     "text": [
      "[(2020825, 'Licence', 'BD', 1, '22-10-2020'), (2020825, 'Licence', 'ALGO', 2, '22-10-2020'), (2020830, 'Licence', 'ALGO', 2, '22-11-2020'), (2020837, 'Master', 'STAT', 5, '18-12-2020'), (2020840, 'Master', 'STAT', 5, '18-12-2020')]\n"
     ]
    }
   ],
   "source": [
    "QueryCurs.execute('SELECT * FROM Inscription')  # afficher la table\n",
    "Values = QueryCurs.fetchall()\n",
    "print(Values)"
   ]
  },
  {
   "cell_type": "code",
   "execution_count": 475,
   "metadata": {},
   "outputs": [
    {
     "name": "stdout",
     "output_type": "stream",
     "text": [
      "[('Licence', 'BD', 1, 'Lundi', '08H45', 232, 11111), ('Licence', 'ALGO', 2, 'Mercredi', '08H35', 235, 22222), ('Licence', 'ALGO', 3, 'Lundi', '08H45', 237, 22222), ('Master', 'STAT', 5, 'Jeudi', '08H45', 240, 44444), ('Master', 'PROBA', 4, 'Lundi', '08H50', 240, 55555)]\n"
     ]
    }
   ],
   "source": [
    "QueryCurs.execute('SELECT * FROM Td')  # afficher la table\n",
    "Values = QueryCurs.fetchall()\n",
    "print(Values)"
   ]
  },
  {
   "cell_type": "code",
   "execution_count": 478,
   "metadata": {},
   "outputs": [
    {
     "data": {
      "text/plain": [
       "[('Licence', 'BD', 1, 'Lundi', '08H45', 232, 11111)]"
      ]
     },
     "execution_count": 478,
     "metadata": {},
     "output_type": "execute_result"
    }
   ],
   "source": [
    "QueryCurs.execute(\"\"\"SELECT * FROM Td WHERE  NoTD=1\"\"\") .fetchall()"
   ]
  },
  {
   "cell_type": "code",
   "execution_count": 479,
   "metadata": {},
   "outputs": [
    {
     "data": {
      "text/plain": [
       "[('Licence', 'BD', 1, 'Lundi', '08H45', 232, 11111),\n",
       " ('Licence', 'ALGO', 2, 'Mercredi', '08H35', 235, 22222),\n",
       " ('Licence', 'ALGO', 3, 'Lundi', '08H45', 237, 22222)]"
      ]
     },
     "execution_count": 479,
     "metadata": {},
     "output_type": "execute_result"
    }
   ],
   "source": [
    "QueryCurs.execute(\"\"\"SELECT * FROM Td WHERE  Diplome='Licence'\"\"\") .fetchall()"
   ]
  },
  {
   "cell_type": "code",
   "execution_count": null,
   "metadata": {},
   "outputs": [],
   "source": []
  }
 ],
 "metadata": {
  "kernelspec": {
   "display_name": "Python 3",
   "language": "python",
   "name": "python3"
  },
  "language_info": {
   "codemirror_mode": {
    "name": "ipython",
    "version": 3
   },
   "file_extension": ".py",
   "mimetype": "text/x-python",
   "name": "python",
   "nbconvert_exporter": "python",
   "pygments_lexer": "ipython3",
   "version": "3.7.1"
  }
 },
 "nbformat": 4,
 "nbformat_minor": 4
}
