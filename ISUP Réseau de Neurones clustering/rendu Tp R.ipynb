{
 "cells": [
  {
   "cell_type": "code",
   "execution_count": 1,
   "metadata": {},
   "outputs": [
    {
     "name": "stdout",
     "output_type": "stream",
     "text": [
      "# weights:  13\n",
      "initial  value 31.856889 \n",
      "iter  10 value 16.464271\n",
      "iter  20 value 7.837169\n",
      "iter  30 value 6.574732\n",
      "iter  40 value 5.517599\n",
      "iter  50 value 3.743565\n",
      "iter  60 value 3.338737\n",
      "iter  70 value 2.623770\n",
      "iter  80 value 2.207291\n",
      "iter  90 value 2.132081\n",
      "iter 100 value 2.086981\n",
      "final  value 2.086981 \n",
      "stopped after 100 iterations\n"
     ]
    }
   ],
   "source": [
    "10library(nnet)\n",
    "library(MASS)\n",
    "# Les donn\\’ees\n",
    "x <-sort(10*runif(50))\n",
    "y <- sin(x)+0.2*rnorm(x)\n",
    "data <- data.frame(x,y)\n",
    "# Construction du PMC linout=TRUE pour \\ˆetre entre 0 et 1\n",
    "nn <- nnet(x,y,size=4,maxit=100,linout=TRUE)"
   ]
  },
  {
   "cell_type": "code",
   "execution_count": 2,
   "metadata": {},
   "outputs": [
    {
     "data": {
      "text/html": [
       "<table>\n",
       "<thead><tr><th scope=col>x</th><th scope=col>y</th></tr></thead>\n",
       "<tbody>\n",
       "\t<tr><td>0.02219009 </td><td>0.134121827</td></tr>\n",
       "\t<tr><td>0.06739468 </td><td>0.007557147</td></tr>\n",
       "\t<tr><td>0.53061130 </td><td>0.403947342</td></tr>\n",
       "\t<tr><td>0.57086937 </td><td>0.826243888</td></tr>\n",
       "\t<tr><td>0.86433754 </td><td>0.671456878</td></tr>\n",
       "\t<tr><td>0.98710382 </td><td>0.951845095</td></tr>\n",
       "</tbody>\n",
       "</table>\n"
      ],
      "text/latex": [
       "\\begin{tabular}{r|ll}\n",
       " x & y\\\\\n",
       "\\hline\n",
       "\t 0.02219009  & 0.134121827\\\\\n",
       "\t 0.06739468  & 0.007557147\\\\\n",
       "\t 0.53061130  & 0.403947342\\\\\n",
       "\t 0.57086937  & 0.826243888\\\\\n",
       "\t 0.86433754  & 0.671456878\\\\\n",
       "\t 0.98710382  & 0.951845095\\\\\n",
       "\\end{tabular}\n"
      ],
      "text/markdown": [
       "\n",
       "| x | y |\n",
       "|---|---|\n",
       "| 0.02219009  | 0.134121827 |\n",
       "| 0.06739468  | 0.007557147 |\n",
       "| 0.53061130  | 0.403947342 |\n",
       "| 0.57086937  | 0.826243888 |\n",
       "| 0.86433754  | 0.671456878 |\n",
       "| 0.98710382  | 0.951845095 |\n",
       "\n"
      ],
      "text/plain": [
       "  x          y          \n",
       "1 0.02219009 0.134121827\n",
       "2 0.06739468 0.007557147\n",
       "3 0.53061130 0.403947342\n",
       "4 0.57086937 0.826243888\n",
       "5 0.86433754 0.671456878\n",
       "6 0.98710382 0.951845095"
      ]
     },
     "metadata": {},
     "output_type": "display_data"
    }
   ],
   "source": [
    "head(data)"
   ]
  },
  {
   "cell_type": "code",
   "execution_count": 3,
   "metadata": {},
   "outputs": [
    {
     "data": {
      "text/html": [
       "11"
      ],
      "text/latex": [
       "11"
      ],
      "text/markdown": [
       "11"
      ],
      "text/plain": [
       "[1] 11"
      ]
     },
     "metadata": {},
     "output_type": "display_data"
    }
   ],
   "source": [
    "5+6"
   ]
  },
  {
   "cell_type": "code",
   "execution_count": 4,
   "metadata": {},
   "outputs": [
    {
     "data": {
      "image/png": "[encoded data removed]",
      "text/plain": [
       "plot without title"
      ]
     },
     "metadata": {},
     "output_type": "display_data"
    }
   ],
   "source": [
    "plot(x,y,col=\"blue\",pch=16)\n",
    "#PMC\n",
    "lines(x,predict(nn,data.frame(x=x)),col=\"red\")\n",
    "x1<-seq(0,10,by=0.01)\n",
    " lines(x1,sin(x1),col=\"green\")\n",
    " # Comparaison avec le mod\\‘ele polynomial\n",
    "modelPoly <- lm(y~x + I(x^2) + I(x^3) + I(x^4))\n",
    "lines(x,predict(modelPoly), col=\"orange\")\n",
    "# L\\’egende\n",
    "legend(3,1.3,c(\"donnees simulees avec bruit\",\"fonction sin(x)\",\"PMC\",\n",
    "\"modele polynomial\"),lty=c(0,1,1,1),pch=c(16,-1,-1-1),\n",
    "col=c(\"blue\",\"green\",\"red\",\"orange\"))"
   ]
  },
  {
   "cell_type": "code",
   "execution_count": 5,
   "metadata": {},
   "outputs": [],
   "source": [
    "appindex = sample(1 :nrow(iris), round(2*nrow(iris)/3), replace = FALSE)"
   ]
  },
  {
   "cell_type": "code",
   "execution_count": 6,
   "metadata": {},
   "outputs": [
    {
     "data": {
      "text/html": [
       "<table>\n",
       "<thead><tr><th></th><th scope=col>Sepal.Length</th><th scope=col>Sepal.Width</th><th scope=col>Petal.Length</th><th scope=col>Petal.Width</th><th scope=col>Species</th></tr></thead>\n",
       "<tbody>\n",
       "\t<tr><th scope=row>1</th><td>5.1       </td><td>3.5       </td><td>1.4       </td><td>0.2       </td><td>setosa    </td></tr>\n",
       "\t<tr><th scope=row>6</th><td>5.4       </td><td>3.9       </td><td>1.7       </td><td>0.4       </td><td>setosa    </td></tr>\n",
       "\t<tr><th scope=row>7</th><td>4.6       </td><td>3.4       </td><td>1.4       </td><td>0.3       </td><td>setosa    </td></tr>\n",
       "\t<tr><th scope=row>8</th><td>5.0       </td><td>3.4       </td><td>1.5       </td><td>0.2       </td><td>setosa    </td></tr>\n",
       "\t<tr><th scope=row>12</th><td>4.8       </td><td>3.4       </td><td>1.6       </td><td>0.2       </td><td>setosa    </td></tr>\n",
       "\t<tr><th scope=row>14</th><td>4.3       </td><td>3.0       </td><td>1.1       </td><td>0.1       </td><td>setosa    </td></tr>\n",
       "\t<tr><th scope=row>16</th><td>5.7       </td><td>4.4       </td><td>1.5       </td><td>0.4       </td><td>setosa    </td></tr>\n",
       "\t<tr><th scope=row>18</th><td>5.1       </td><td>3.5       </td><td>1.4       </td><td>0.3       </td><td>setosa    </td></tr>\n",
       "\t<tr><th scope=row>19</th><td>5.7       </td><td>3.8       </td><td>1.7       </td><td>0.3       </td><td>setosa    </td></tr>\n",
       "\t<tr><th scope=row>22</th><td>5.1       </td><td>3.7       </td><td>1.5       </td><td>0.4       </td><td>setosa    </td></tr>\n",
       "\t<tr><th scope=row>25</th><td>4.8       </td><td>3.4       </td><td>1.9       </td><td>0.2       </td><td>setosa    </td></tr>\n",
       "\t<tr><th scope=row>26</th><td>5.0       </td><td>3.0       </td><td>1.6       </td><td>0.2       </td><td>setosa    </td></tr>\n",
       "\t<tr><th scope=row>28</th><td>5.2       </td><td>3.5       </td><td>1.5       </td><td>0.2       </td><td>setosa    </td></tr>\n",
       "\t<tr><th scope=row>30</th><td>4.7       </td><td>3.2       </td><td>1.6       </td><td>0.2       </td><td>setosa    </td></tr>\n",
       "\t<tr><th scope=row>35</th><td>4.9       </td><td>3.1       </td><td>1.5       </td><td>0.2       </td><td>setosa    </td></tr>\n",
       "\t<tr><th scope=row>37</th><td>5.5       </td><td>3.5       </td><td>1.3       </td><td>0.2       </td><td>setosa    </td></tr>\n",
       "\t<tr><th scope=row>38</th><td>4.9       </td><td>3.6       </td><td>1.4       </td><td>0.1       </td><td>setosa    </td></tr>\n",
       "\t<tr><th scope=row>39</th><td>4.4       </td><td>3.0       </td><td>1.3       </td><td>0.2       </td><td>setosa    </td></tr>\n",
       "\t<tr><th scope=row>41</th><td>5.0       </td><td>3.5       </td><td>1.3       </td><td>0.3       </td><td>setosa    </td></tr>\n",
       "\t<tr><th scope=row>43</th><td>4.4       </td><td>3.2       </td><td>1.3       </td><td>0.2       </td><td>setosa    </td></tr>\n",
       "\t<tr><th scope=row>46</th><td>4.8       </td><td>3.0       </td><td>1.4       </td><td>0.3       </td><td>setosa    </td></tr>\n",
       "\t<tr><th scope=row>53</th><td>6.9       </td><td>3.1       </td><td>4.9       </td><td>1.5       </td><td>versicolor</td></tr>\n",
       "\t<tr><th scope=row>55</th><td>6.5       </td><td>2.8       </td><td>4.6       </td><td>1.5       </td><td>versicolor</td></tr>\n",
       "\t<tr><th scope=row>61</th><td>5.0       </td><td>2.0       </td><td>3.5       </td><td>1.0       </td><td>versicolor</td></tr>\n",
       "\t<tr><th scope=row>64</th><td>6.1       </td><td>2.9       </td><td>4.7       </td><td>1.4       </td><td>versicolor</td></tr>\n",
       "\t<tr><th scope=row>65</th><td>5.6       </td><td>2.9       </td><td>3.6       </td><td>1.3       </td><td>versicolor</td></tr>\n",
       "\t<tr><th scope=row>71</th><td>5.9       </td><td>3.2       </td><td>4.8       </td><td>1.8       </td><td>versicolor</td></tr>\n",
       "\t<tr><th scope=row>72</th><td>6.1       </td><td>2.8       </td><td>4.0       </td><td>1.3       </td><td>versicolor</td></tr>\n",
       "\t<tr><th scope=row>86</th><td>6.0       </td><td>3.4       </td><td>4.5       </td><td>1.6       </td><td>versicolor</td></tr>\n",
       "\t<tr><th scope=row>91</th><td>5.5       </td><td>2.6       </td><td>4.4       </td><td>1.2       </td><td>versicolor</td></tr>\n",
       "\t<tr><th scope=row>99</th><td>5.1       </td><td>2.5       </td><td>3.0       </td><td>1.1       </td><td>versicolor</td></tr>\n",
       "\t<tr><th scope=row>100</th><td>5.7       </td><td>2.8       </td><td>4.1       </td><td>1.3       </td><td>versicolor</td></tr>\n",
       "\t<tr><th scope=row>113</th><td>6.8       </td><td>3.0       </td><td>5.5       </td><td>2.1       </td><td>virginica </td></tr>\n",
       "\t<tr><th scope=row>114</th><td>5.7       </td><td>2.5       </td><td>5.0       </td><td>2.0       </td><td>virginica </td></tr>\n",
       "\t<tr><th scope=row>115</th><td>5.8       </td><td>2.8       </td><td>5.1       </td><td>2.4       </td><td>virginica </td></tr>\n",
       "\t<tr><th scope=row>116</th><td>6.4       </td><td>3.2       </td><td>5.3       </td><td>2.3       </td><td>virginica </td></tr>\n",
       "\t<tr><th scope=row>118</th><td>7.7       </td><td>3.8       </td><td>6.7       </td><td>2.2       </td><td>virginica </td></tr>\n",
       "\t<tr><th scope=row>120</th><td>6.0       </td><td>2.2       </td><td>5.0       </td><td>1.5       </td><td>virginica </td></tr>\n",
       "\t<tr><th scope=row>123</th><td>7.7       </td><td>2.8       </td><td>6.7       </td><td>2.0       </td><td>virginica </td></tr>\n",
       "\t<tr><th scope=row>130</th><td>7.2       </td><td>3.0       </td><td>5.8       </td><td>1.6       </td><td>virginica </td></tr>\n",
       "\t<tr><th scope=row>131</th><td>7.4       </td><td>2.8       </td><td>6.1       </td><td>1.9       </td><td>virginica </td></tr>\n",
       "\t<tr><th scope=row>133</th><td>6.4       </td><td>2.8       </td><td>5.6       </td><td>2.2       </td><td>virginica </td></tr>\n",
       "\t<tr><th scope=row>134</th><td>6.3       </td><td>2.8       </td><td>5.1       </td><td>1.5       </td><td>virginica </td></tr>\n",
       "\t<tr><th scope=row>135</th><td>6.1       </td><td>2.6       </td><td>5.6       </td><td>1.4       </td><td>virginica </td></tr>\n",
       "\t<tr><th scope=row>139</th><td>6.0       </td><td>3.0       </td><td>4.8       </td><td>1.8       </td><td>virginica </td></tr>\n",
       "\t<tr><th scope=row>143</th><td>5.8       </td><td>2.7       </td><td>5.1       </td><td>1.9       </td><td>virginica </td></tr>\n",
       "\t<tr><th scope=row>144</th><td>6.8       </td><td>3.2       </td><td>5.9       </td><td>2.3       </td><td>virginica </td></tr>\n",
       "\t<tr><th scope=row>146</th><td>6.7       </td><td>3.0       </td><td>5.2       </td><td>2.3       </td><td>virginica </td></tr>\n",
       "\t<tr><th scope=row>147</th><td>6.3       </td><td>2.5       </td><td>5.0       </td><td>1.9       </td><td>virginica </td></tr>\n",
       "\t<tr><th scope=row>148</th><td>6.5       </td><td>3.0       </td><td>5.2       </td><td>2.0       </td><td>virginica </td></tr>\n",
       "</tbody>\n",
       "</table>\n"
      ],
      "text/latex": [
       "\\begin{tabular}{r|lllll}\n",
       "  & Sepal.Length & Sepal.Width & Petal.Length & Petal.Width & Species\\\\\n",
       "\\hline\n",
       "\t1 & 5.1        & 3.5        & 1.4        & 0.2        & setosa    \\\\\n",
       "\t6 & 5.4        & 3.9        & 1.7        & 0.4        & setosa    \\\\\n",
       "\t7 & 4.6        & 3.4        & 1.4        & 0.3        & setosa    \\\\\n",
       "\t8 & 5.0        & 3.4        & 1.5        & 0.2        & setosa    \\\\\n",
       "\t12 & 4.8        & 3.4        & 1.6        & 0.2        & setosa    \\\\\n",
       "\t14 & 4.3        & 3.0        & 1.1        & 0.1        & setosa    \\\\\n",
       "\t16 & 5.7        & 4.4        & 1.5        & 0.4        & setosa    \\\\\n",
       "\t18 & 5.1        & 3.5        & 1.4        & 0.3        & setosa    \\\\\n",
       "\t19 & 5.7        & 3.8        & 1.7        & 0.3        & setosa    \\\\\n",
       "\t22 & 5.1        & 3.7        & 1.5        & 0.4        & setosa    \\\\\n",
       "\t25 & 4.8        & 3.4        & 1.9        & 0.2        & setosa    \\\\\n",
       "\t26 & 5.0        & 3.0        & 1.6        & 0.2        & setosa    \\\\\n",
       "\t28 & 5.2        & 3.5        & 1.5        & 0.2        & setosa    \\\\\n",
       "\t30 & 4.7        & 3.2        & 1.6        & 0.2        & setosa    \\\\\n",
       "\t35 & 4.9        & 3.1        & 1.5        & 0.2        & setosa    \\\\\n",
       "\t37 & 5.5        & 3.5        & 1.3        & 0.2        & setosa    \\\\\n",
       "\t38 & 4.9        & 3.6        & 1.4        & 0.1        & setosa    \\\\\n",
       "\t39 & 4.4        & 3.0        & 1.3        & 0.2        & setosa    \\\\\n",
       "\t41 & 5.0        & 3.5        & 1.3        & 0.3        & setosa    \\\\\n",
       "\t43 & 4.4        & 3.2        & 1.3        & 0.2        & setosa    \\\\\n",
       "\t46 & 4.8        & 3.0        & 1.4        & 0.3        & setosa    \\\\\n",
       "\t53 & 6.9        & 3.1        & 4.9        & 1.5        & versicolor\\\\\n",
       "\t55 & 6.5        & 2.8        & 4.6        & 1.5        & versicolor\\\\\n",
       "\t61 & 5.0        & 2.0        & 3.5        & 1.0        & versicolor\\\\\n",
       "\t64 & 6.1        & 2.9        & 4.7        & 1.4        & versicolor\\\\\n",
       "\t65 & 5.6        & 2.9        & 3.6        & 1.3        & versicolor\\\\\n",
       "\t71 & 5.9        & 3.2        & 4.8        & 1.8        & versicolor\\\\\n",
       "\t72 & 6.1        & 2.8        & 4.0        & 1.3        & versicolor\\\\\n",
       "\t86 & 6.0        & 3.4        & 4.5        & 1.6        & versicolor\\\\\n",
       "\t91 & 5.5        & 2.6        & 4.4        & 1.2        & versicolor\\\\\n",
       "\t99 & 5.1        & 2.5        & 3.0        & 1.1        & versicolor\\\\\n",
       "\t100 & 5.7        & 2.8        & 4.1        & 1.3        & versicolor\\\\\n",
       "\t113 & 6.8        & 3.0        & 5.5        & 2.1        & virginica \\\\\n",
       "\t114 & 5.7        & 2.5        & 5.0        & 2.0        & virginica \\\\\n",
       "\t115 & 5.8        & 2.8        & 5.1        & 2.4        & virginica \\\\\n",
       "\t116 & 6.4        & 3.2        & 5.3        & 2.3        & virginica \\\\\n",
       "\t118 & 7.7        & 3.8        & 6.7        & 2.2        & virginica \\\\\n",
       "\t120 & 6.0        & 2.2        & 5.0        & 1.5        & virginica \\\\\n",
       "\t123 & 7.7        & 2.8        & 6.7        & 2.0        & virginica \\\\\n",
       "\t130 & 7.2        & 3.0        & 5.8        & 1.6        & virginica \\\\\n",
       "\t131 & 7.4        & 2.8        & 6.1        & 1.9        & virginica \\\\\n",
       "\t133 & 6.4        & 2.8        & 5.6        & 2.2        & virginica \\\\\n",
       "\t134 & 6.3        & 2.8        & 5.1        & 1.5        & virginica \\\\\n",
       "\t135 & 6.1        & 2.6        & 5.6        & 1.4        & virginica \\\\\n",
       "\t139 & 6.0        & 3.0        & 4.8        & 1.8        & virginica \\\\\n",
       "\t143 & 5.8        & 2.7        & 5.1        & 1.9        & virginica \\\\\n",
       "\t144 & 6.8        & 3.2        & 5.9        & 2.3        & virginica \\\\\n",
       "\t146 & 6.7        & 3.0        & 5.2        & 2.3        & virginica \\\\\n",
       "\t147 & 6.3        & 2.5        & 5.0        & 1.9        & virginica \\\\\n",
       "\t148 & 6.5        & 3.0        & 5.2        & 2.0        & virginica \\\\\n",
       "\\end{tabular}\n"
      ],
      "text/markdown": [
       "\n",
       "| <!--/--> | Sepal.Length | Sepal.Width | Petal.Length | Petal.Width | Species |\n",
       "|---|---|---|---|---|---|\n",
       "| 1 | 5.1        | 3.5        | 1.4        | 0.2        | setosa     |\n",
       "| 6 | 5.4        | 3.9        | 1.7        | 0.4        | setosa     |\n",
       "| 7 | 4.6        | 3.4        | 1.4        | 0.3        | setosa     |\n",
       "| 8 | 5.0        | 3.4        | 1.5        | 0.2        | setosa     |\n",
       "| 12 | 4.8        | 3.4        | 1.6        | 0.2        | setosa     |\n",
       "| 14 | 4.3        | 3.0        | 1.1        | 0.1        | setosa     |\n",
       "| 16 | 5.7        | 4.4        | 1.5        | 0.4        | setosa     |\n",
       "| 18 | 5.1        | 3.5        | 1.4        | 0.3        | setosa     |\n",
       "| 19 | 5.7        | 3.8        | 1.7        | 0.3        | setosa     |\n",
       "| 22 | 5.1        | 3.7        | 1.5        | 0.4        | setosa     |\n",
       "| 25 | 4.8        | 3.4        | 1.9        | 0.2        | setosa     |\n",
       "| 26 | 5.0        | 3.0        | 1.6        | 0.2        | setosa     |\n",
       "| 28 | 5.2        | 3.5        | 1.5        | 0.2        | setosa     |\n",
       "| 30 | 4.7        | 3.2        | 1.6        | 0.2        | setosa     |\n",
       "| 35 | 4.9        | 3.1        | 1.5        | 0.2        | setosa     |\n",
       "| 37 | 5.5        | 3.5        | 1.3        | 0.2        | setosa     |\n",
       "| 38 | 4.9        | 3.6        | 1.4        | 0.1        | setosa     |\n",
       "| 39 | 4.4        | 3.0        | 1.3        | 0.2        | setosa     |\n",
       "| 41 | 5.0        | 3.5        | 1.3        | 0.3        | setosa     |\n",
       "| 43 | 4.4        | 3.2        | 1.3        | 0.2        | setosa     |\n",
       "| 46 | 4.8        | 3.0        | 1.4        | 0.3        | setosa     |\n",
       "| 53 | 6.9        | 3.1        | 4.9        | 1.5        | versicolor |\n",
       "| 55 | 6.5        | 2.8        | 4.6        | 1.5        | versicolor |\n",
       "| 61 | 5.0        | 2.0        | 3.5        | 1.0        | versicolor |\n",
       "| 64 | 6.1        | 2.9        | 4.7        | 1.4        | versicolor |\n",
       "| 65 | 5.6        | 2.9        | 3.6        | 1.3        | versicolor |\n",
       "| 71 | 5.9        | 3.2        | 4.8        | 1.8        | versicolor |\n",
       "| 72 | 6.1        | 2.8        | 4.0        | 1.3        | versicolor |\n",
       "| 86 | 6.0        | 3.4        | 4.5        | 1.6        | versicolor |\n",
       "| 91 | 5.5        | 2.6        | 4.4        | 1.2        | versicolor |\n",
       "| 99 | 5.1        | 2.5        | 3.0        | 1.1        | versicolor |\n",
       "| 100 | 5.7        | 2.8        | 4.1        | 1.3        | versicolor |\n",
       "| 113 | 6.8        | 3.0        | 5.5        | 2.1        | virginica  |\n",
       "| 114 | 5.7        | 2.5        | 5.0        | 2.0        | virginica  |\n",
       "| 115 | 5.8        | 2.8        | 5.1        | 2.4        | virginica  |\n",
       "| 116 | 6.4        | 3.2        | 5.3        | 2.3        | virginica  |\n",
       "| 118 | 7.7        | 3.8        | 6.7        | 2.2        | virginica  |\n",
       "| 120 | 6.0        | 2.2        | 5.0        | 1.5        | virginica  |\n",
       "| 123 | 7.7        | 2.8        | 6.7        | 2.0        | virginica  |\n",
       "| 130 | 7.2        | 3.0        | 5.8        | 1.6        | virginica  |\n",
       "| 131 | 7.4        | 2.8        | 6.1        | 1.9        | virginica  |\n",
       "| 133 | 6.4        | 2.8        | 5.6        | 2.2        | virginica  |\n",
       "| 134 | 6.3        | 2.8        | 5.1        | 1.5        | virginica  |\n",
       "| 135 | 6.1        | 2.6        | 5.6        | 1.4        | virginica  |\n",
       "| 139 | 6.0        | 3.0        | 4.8        | 1.8        | virginica  |\n",
       "| 143 | 5.8        | 2.7        | 5.1        | 1.9        | virginica  |\n",
       "| 144 | 6.8        | 3.2        | 5.9        | 2.3        | virginica  |\n",
       "| 146 | 6.7        | 3.0        | 5.2        | 2.3        | virginica  |\n",
       "| 147 | 6.3        | 2.5        | 5.0        | 1.9        | virginica  |\n",
       "| 148 | 6.5        | 3.0        | 5.2        | 2.0        | virginica  |\n",
       "\n"
      ],
      "text/plain": [
       "    Sepal.Length Sepal.Width Petal.Length Petal.Width Species   \n",
       "1   5.1          3.5         1.4          0.2         setosa    \n",
       "6   5.4          3.9         1.7          0.4         setosa    \n",
       "7   4.6          3.4         1.4          0.3         setosa    \n",
       "8   5.0          3.4         1.5          0.2         setosa    \n",
       "12  4.8          3.4         1.6          0.2         setosa    \n",
       "14  4.3          3.0         1.1          0.1         setosa    \n",
       "16  5.7          4.4         1.5          0.4         setosa    \n",
       "18  5.1          3.5         1.4          0.3         setosa    \n",
       "19  5.7          3.8         1.7          0.3         setosa    \n",
       "22  5.1          3.7         1.5          0.4         setosa    \n",
       "25  4.8          3.4         1.9          0.2         setosa    \n",
       "26  5.0          3.0         1.6          0.2         setosa    \n",
       "28  5.2          3.5         1.5          0.2         setosa    \n",
       "30  4.7          3.2         1.6          0.2         setosa    \n",
       "35  4.9          3.1         1.5          0.2         setosa    \n",
       "37  5.5          3.5         1.3          0.2         setosa    \n",
       "38  4.9          3.6         1.4          0.1         setosa    \n",
       "39  4.4          3.0         1.3          0.2         setosa    \n",
       "41  5.0          3.5         1.3          0.3         setosa    \n",
       "43  4.4          3.2         1.3          0.2         setosa    \n",
       "46  4.8          3.0         1.4          0.3         setosa    \n",
       "53  6.9          3.1         4.9          1.5         versicolor\n",
       "55  6.5          2.8         4.6          1.5         versicolor\n",
       "61  5.0          2.0         3.5          1.0         versicolor\n",
       "64  6.1          2.9         4.7          1.4         versicolor\n",
       "65  5.6          2.9         3.6          1.3         versicolor\n",
       "71  5.9          3.2         4.8          1.8         versicolor\n",
       "72  6.1          2.8         4.0          1.3         versicolor\n",
       "86  6.0          3.4         4.5          1.6         versicolor\n",
       "91  5.5          2.6         4.4          1.2         versicolor\n",
       "99  5.1          2.5         3.0          1.1         versicolor\n",
       "100 5.7          2.8         4.1          1.3         versicolor\n",
       "113 6.8          3.0         5.5          2.1         virginica \n",
       "114 5.7          2.5         5.0          2.0         virginica \n",
       "115 5.8          2.8         5.1          2.4         virginica \n",
       "116 6.4          3.2         5.3          2.3         virginica \n",
       "118 7.7          3.8         6.7          2.2         virginica \n",
       "120 6.0          2.2         5.0          1.5         virginica \n",
       "123 7.7          2.8         6.7          2.0         virginica \n",
       "130 7.2          3.0         5.8          1.6         virginica \n",
       "131 7.4          2.8         6.1          1.9         virginica \n",
       "133 6.4          2.8         5.6          2.2         virginica \n",
       "134 6.3          2.8         5.1          1.5         virginica \n",
       "135 6.1          2.6         5.6          1.4         virginica \n",
       "139 6.0          3.0         4.8          1.8         virginica \n",
       "143 5.8          2.7         5.1          1.9         virginica \n",
       "144 6.8          3.2         5.9          2.3         virginica \n",
       "146 6.7          3.0         5.2          2.3         virginica \n",
       "147 6.3          2.5         5.0          1.9         virginica \n",
       "148 6.5          3.0         5.2          2.0         virginica "
      ]
     },
     "metadata": {},
     "output_type": "display_data"
    }
   ],
   "source": [
    "app = iris[appindex, ]\n",
    "val = iris[-appindex, ]\n",
    "val"
   ]
  },
  {
   "cell_type": "code",
   "execution_count": 7,
   "metadata": {},
   "outputs": [
    {
     "name": "stdout",
     "output_type": "stream",
     "text": [
      "# weights:  19\n",
      "initial  value 115.682573 \n",
      "iter  10 value 109.097462\n",
      "iter  20 value 109.082612\n",
      "iter  30 value 43.041580\n",
      "iter  40 value 11.598489\n",
      "iter  50 value 5.551971\n",
      "iter  60 value 5.371708\n",
      "iter  70 value 5.370247\n",
      "iter  80 value 5.366525\n",
      "iter  90 value 5.002535\n",
      "iter 100 value 3.980430\n",
      "final  value 3.980430 \n",
      "stopped after 100 iterations\n"
     ]
    }
   ],
   "source": [
    "model.dis = nnet(Species~., data = app, size = 2, decay = 0.001)"
   ]
  },
  {
   "cell_type": "code",
   "execution_count": 8,
   "metadata": {},
   "outputs": [
    {
     "data": {
      "text/plain": [
       "a 4-2-3 network with 19 weights\n",
       "options were - softmax modelling  decay=0.001\n",
       " b->h1 i1->h1 i2->h1 i3->h1 i4->h1 \n",
       " -0.25  -0.06  -2.25   3.01  -3.18 \n",
       " b->h2 i1->h2 i2->h2 i3->h2 i4->h2 \n",
       "  4.35   0.39   0.54  -0.66  -3.28 \n",
       " b->o1 h1->o1 h2->o1 \n",
       "-18.37 -12.39  25.94 \n",
       " b->o2 h1->o2 h2->o2 \n",
       " -5.83  14.54   7.52 \n",
       " b->o3 h1->o3 h2->o3 \n",
       " 24.11  -2.15 -33.51 "
      ]
     },
     "metadata": {},
     "output_type": "display_data"
    }
   ],
   "source": [
    "summary(model.dis)"
   ]
  },
  {
   "cell_type": "code",
   "execution_count": 9,
   "metadata": {},
   "outputs": [
    {
     "data": {
      "text/html": [
       "<table>\n",
       "<thead><tr><th></th><th scope=col>Sepal.Length</th><th scope=col>Sepal.Width</th><th scope=col>Petal.Length</th><th scope=col>Petal.Width</th></tr></thead>\n",
       "<tbody>\n",
       "\t<tr><th scope=row>1</th><td>5.1</td><td>3.5</td><td>1.4</td><td>0.2</td></tr>\n",
       "\t<tr><th scope=row>6</th><td>5.4</td><td>3.9</td><td>1.7</td><td>0.4</td></tr>\n",
       "\t<tr><th scope=row>7</th><td>4.6</td><td>3.4</td><td>1.4</td><td>0.3</td></tr>\n",
       "\t<tr><th scope=row>8</th><td>5.0</td><td>3.4</td><td>1.5</td><td>0.2</td></tr>\n",
       "\t<tr><th scope=row>12</th><td>4.8</td><td>3.4</td><td>1.6</td><td>0.2</td></tr>\n",
       "\t<tr><th scope=row>14</th><td>4.3</td><td>3.0</td><td>1.1</td><td>0.1</td></tr>\n",
       "\t<tr><th scope=row>16</th><td>5.7</td><td>4.4</td><td>1.5</td><td>0.4</td></tr>\n",
       "\t<tr><th scope=row>18</th><td>5.1</td><td>3.5</td><td>1.4</td><td>0.3</td></tr>\n",
       "\t<tr><th scope=row>19</th><td>5.7</td><td>3.8</td><td>1.7</td><td>0.3</td></tr>\n",
       "\t<tr><th scope=row>22</th><td>5.1</td><td>3.7</td><td>1.5</td><td>0.4</td></tr>\n",
       "\t<tr><th scope=row>25</th><td>4.8</td><td>3.4</td><td>1.9</td><td>0.2</td></tr>\n",
       "\t<tr><th scope=row>26</th><td>5.0</td><td>3.0</td><td>1.6</td><td>0.2</td></tr>\n",
       "\t<tr><th scope=row>28</th><td>5.2</td><td>3.5</td><td>1.5</td><td>0.2</td></tr>\n",
       "\t<tr><th scope=row>30</th><td>4.7</td><td>3.2</td><td>1.6</td><td>0.2</td></tr>\n",
       "\t<tr><th scope=row>35</th><td>4.9</td><td>3.1</td><td>1.5</td><td>0.2</td></tr>\n",
       "\t<tr><th scope=row>37</th><td>5.5</td><td>3.5</td><td>1.3</td><td>0.2</td></tr>\n",
       "\t<tr><th scope=row>38</th><td>4.9</td><td>3.6</td><td>1.4</td><td>0.1</td></tr>\n",
       "\t<tr><th scope=row>39</th><td>4.4</td><td>3.0</td><td>1.3</td><td>0.2</td></tr>\n",
       "\t<tr><th scope=row>41</th><td>5.0</td><td>3.5</td><td>1.3</td><td>0.3</td></tr>\n",
       "\t<tr><th scope=row>43</th><td>4.4</td><td>3.2</td><td>1.3</td><td>0.2</td></tr>\n",
       "\t<tr><th scope=row>46</th><td>4.8</td><td>3.0</td><td>1.4</td><td>0.3</td></tr>\n",
       "\t<tr><th scope=row>53</th><td>6.9</td><td>3.1</td><td>4.9</td><td>1.5</td></tr>\n",
       "\t<tr><th scope=row>55</th><td>6.5</td><td>2.8</td><td>4.6</td><td>1.5</td></tr>\n",
       "\t<tr><th scope=row>61</th><td>5.0</td><td>2.0</td><td>3.5</td><td>1.0</td></tr>\n",
       "\t<tr><th scope=row>64</th><td>6.1</td><td>2.9</td><td>4.7</td><td>1.4</td></tr>\n",
       "\t<tr><th scope=row>65</th><td>5.6</td><td>2.9</td><td>3.6</td><td>1.3</td></tr>\n",
       "\t<tr><th scope=row>71</th><td>5.9</td><td>3.2</td><td>4.8</td><td>1.8</td></tr>\n",
       "\t<tr><th scope=row>72</th><td>6.1</td><td>2.8</td><td>4.0</td><td>1.3</td></tr>\n",
       "\t<tr><th scope=row>86</th><td>6.0</td><td>3.4</td><td>4.5</td><td>1.6</td></tr>\n",
       "\t<tr><th scope=row>91</th><td>5.5</td><td>2.6</td><td>4.4</td><td>1.2</td></tr>\n",
       "\t<tr><th scope=row>99</th><td>5.1</td><td>2.5</td><td>3.0</td><td>1.1</td></tr>\n",
       "\t<tr><th scope=row>100</th><td>5.7</td><td>2.8</td><td>4.1</td><td>1.3</td></tr>\n",
       "\t<tr><th scope=row>113</th><td>6.8</td><td>3.0</td><td>5.5</td><td>2.1</td></tr>\n",
       "\t<tr><th scope=row>114</th><td>5.7</td><td>2.5</td><td>5.0</td><td>2.0</td></tr>\n",
       "\t<tr><th scope=row>115</th><td>5.8</td><td>2.8</td><td>5.1</td><td>2.4</td></tr>\n",
       "\t<tr><th scope=row>116</th><td>6.4</td><td>3.2</td><td>5.3</td><td>2.3</td></tr>\n",
       "\t<tr><th scope=row>118</th><td>7.7</td><td>3.8</td><td>6.7</td><td>2.2</td></tr>\n",
       "\t<tr><th scope=row>120</th><td>6.0</td><td>2.2</td><td>5.0</td><td>1.5</td></tr>\n",
       "\t<tr><th scope=row>123</th><td>7.7</td><td>2.8</td><td>6.7</td><td>2.0</td></tr>\n",
       "\t<tr><th scope=row>130</th><td>7.2</td><td>3.0</td><td>5.8</td><td>1.6</td></tr>\n",
       "\t<tr><th scope=row>131</th><td>7.4</td><td>2.8</td><td>6.1</td><td>1.9</td></tr>\n",
       "\t<tr><th scope=row>133</th><td>6.4</td><td>2.8</td><td>5.6</td><td>2.2</td></tr>\n",
       "\t<tr><th scope=row>134</th><td>6.3</td><td>2.8</td><td>5.1</td><td>1.5</td></tr>\n",
       "\t<tr><th scope=row>135</th><td>6.1</td><td>2.6</td><td>5.6</td><td>1.4</td></tr>\n",
       "\t<tr><th scope=row>139</th><td>6.0</td><td>3.0</td><td>4.8</td><td>1.8</td></tr>\n",
       "\t<tr><th scope=row>143</th><td>5.8</td><td>2.7</td><td>5.1</td><td>1.9</td></tr>\n",
       "\t<tr><th scope=row>144</th><td>6.8</td><td>3.2</td><td>5.9</td><td>2.3</td></tr>\n",
       "\t<tr><th scope=row>146</th><td>6.7</td><td>3.0</td><td>5.2</td><td>2.3</td></tr>\n",
       "\t<tr><th scope=row>147</th><td>6.3</td><td>2.5</td><td>5.0</td><td>1.9</td></tr>\n",
       "\t<tr><th scope=row>148</th><td>6.5</td><td>3.0</td><td>5.2</td><td>2.0</td></tr>\n",
       "</tbody>\n",
       "</table>\n"
      ],
      "text/latex": [
       "\\begin{tabular}{r|llll}\n",
       "  & Sepal.Length & Sepal.Width & Petal.Length & Petal.Width\\\\\n",
       "\\hline\n",
       "\t1 & 5.1 & 3.5 & 1.4 & 0.2\\\\\n",
       "\t6 & 5.4 & 3.9 & 1.7 & 0.4\\\\\n",
       "\t7 & 4.6 & 3.4 & 1.4 & 0.3\\\\\n",
       "\t8 & 5.0 & 3.4 & 1.5 & 0.2\\\\\n",
       "\t12 & 4.8 & 3.4 & 1.6 & 0.2\\\\\n",
       "\t14 & 4.3 & 3.0 & 1.1 & 0.1\\\\\n",
       "\t16 & 5.7 & 4.4 & 1.5 & 0.4\\\\\n",
       "\t18 & 5.1 & 3.5 & 1.4 & 0.3\\\\\n",
       "\t19 & 5.7 & 3.8 & 1.7 & 0.3\\\\\n",
       "\t22 & 5.1 & 3.7 & 1.5 & 0.4\\\\\n",
       "\t25 & 4.8 & 3.4 & 1.9 & 0.2\\\\\n",
       "\t26 & 5.0 & 3.0 & 1.6 & 0.2\\\\\n",
       "\t28 & 5.2 & 3.5 & 1.5 & 0.2\\\\\n",
       "\t30 & 4.7 & 3.2 & 1.6 & 0.2\\\\\n",
       "\t35 & 4.9 & 3.1 & 1.5 & 0.2\\\\\n",
       "\t37 & 5.5 & 3.5 & 1.3 & 0.2\\\\\n",
       "\t38 & 4.9 & 3.6 & 1.4 & 0.1\\\\\n",
       "\t39 & 4.4 & 3.0 & 1.3 & 0.2\\\\\n",
       "\t41 & 5.0 & 3.5 & 1.3 & 0.3\\\\\n",
       "\t43 & 4.4 & 3.2 & 1.3 & 0.2\\\\\n",
       "\t46 & 4.8 & 3.0 & 1.4 & 0.3\\\\\n",
       "\t53 & 6.9 & 3.1 & 4.9 & 1.5\\\\\n",
       "\t55 & 6.5 & 2.8 & 4.6 & 1.5\\\\\n",
       "\t61 & 5.0 & 2.0 & 3.5 & 1.0\\\\\n",
       "\t64 & 6.1 & 2.9 & 4.7 & 1.4\\\\\n",
       "\t65 & 5.6 & 2.9 & 3.6 & 1.3\\\\\n",
       "\t71 & 5.9 & 3.2 & 4.8 & 1.8\\\\\n",
       "\t72 & 6.1 & 2.8 & 4.0 & 1.3\\\\\n",
       "\t86 & 6.0 & 3.4 & 4.5 & 1.6\\\\\n",
       "\t91 & 5.5 & 2.6 & 4.4 & 1.2\\\\\n",
       "\t99 & 5.1 & 2.5 & 3.0 & 1.1\\\\\n",
       "\t100 & 5.7 & 2.8 & 4.1 & 1.3\\\\\n",
       "\t113 & 6.8 & 3.0 & 5.5 & 2.1\\\\\n",
       "\t114 & 5.7 & 2.5 & 5.0 & 2.0\\\\\n",
       "\t115 & 5.8 & 2.8 & 5.1 & 2.4\\\\\n",
       "\t116 & 6.4 & 3.2 & 5.3 & 2.3\\\\\n",
       "\t118 & 7.7 & 3.8 & 6.7 & 2.2\\\\\n",
       "\t120 & 6.0 & 2.2 & 5.0 & 1.5\\\\\n",
       "\t123 & 7.7 & 2.8 & 6.7 & 2.0\\\\\n",
       "\t130 & 7.2 & 3.0 & 5.8 & 1.6\\\\\n",
       "\t131 & 7.4 & 2.8 & 6.1 & 1.9\\\\\n",
       "\t133 & 6.4 & 2.8 & 5.6 & 2.2\\\\\n",
       "\t134 & 6.3 & 2.8 & 5.1 & 1.5\\\\\n",
       "\t135 & 6.1 & 2.6 & 5.6 & 1.4\\\\\n",
       "\t139 & 6.0 & 3.0 & 4.8 & 1.8\\\\\n",
       "\t143 & 5.8 & 2.7 & 5.1 & 1.9\\\\\n",
       "\t144 & 6.8 & 3.2 & 5.9 & 2.3\\\\\n",
       "\t146 & 6.7 & 3.0 & 5.2 & 2.3\\\\\n",
       "\t147 & 6.3 & 2.5 & 5.0 & 1.9\\\\\n",
       "\t148 & 6.5 & 3.0 & 5.2 & 2.0\\\\\n",
       "\\end{tabular}\n"
      ],
      "text/markdown": [
       "\n",
       "| <!--/--> | Sepal.Length | Sepal.Width | Petal.Length | Petal.Width |\n",
       "|---|---|---|---|---|\n",
       "| 1 | 5.1 | 3.5 | 1.4 | 0.2 |\n",
       "| 6 | 5.4 | 3.9 | 1.7 | 0.4 |\n",
       "| 7 | 4.6 | 3.4 | 1.4 | 0.3 |\n",
       "| 8 | 5.0 | 3.4 | 1.5 | 0.2 |\n",
       "| 12 | 4.8 | 3.4 | 1.6 | 0.2 |\n",
       "| 14 | 4.3 | 3.0 | 1.1 | 0.1 |\n",
       "| 16 | 5.7 | 4.4 | 1.5 | 0.4 |\n",
       "| 18 | 5.1 | 3.5 | 1.4 | 0.3 |\n",
       "| 19 | 5.7 | 3.8 | 1.7 | 0.3 |\n",
       "| 22 | 5.1 | 3.7 | 1.5 | 0.4 |\n",
       "| 25 | 4.8 | 3.4 | 1.9 | 0.2 |\n",
       "| 26 | 5.0 | 3.0 | 1.6 | 0.2 |\n",
       "| 28 | 5.2 | 3.5 | 1.5 | 0.2 |\n",
       "| 30 | 4.7 | 3.2 | 1.6 | 0.2 |\n",
       "| 35 | 4.9 | 3.1 | 1.5 | 0.2 |\n",
       "| 37 | 5.5 | 3.5 | 1.3 | 0.2 |\n",
       "| 38 | 4.9 | 3.6 | 1.4 | 0.1 |\n",
       "| 39 | 4.4 | 3.0 | 1.3 | 0.2 |\n",
       "| 41 | 5.0 | 3.5 | 1.3 | 0.3 |\n",
       "| 43 | 4.4 | 3.2 | 1.3 | 0.2 |\n",
       "| 46 | 4.8 | 3.0 | 1.4 | 0.3 |\n",
       "| 53 | 6.9 | 3.1 | 4.9 | 1.5 |\n",
       "| 55 | 6.5 | 2.8 | 4.6 | 1.5 |\n",
       "| 61 | 5.0 | 2.0 | 3.5 | 1.0 |\n",
       "| 64 | 6.1 | 2.9 | 4.7 | 1.4 |\n",
       "| 65 | 5.6 | 2.9 | 3.6 | 1.3 |\n",
       "| 71 | 5.9 | 3.2 | 4.8 | 1.8 |\n",
       "| 72 | 6.1 | 2.8 | 4.0 | 1.3 |\n",
       "| 86 | 6.0 | 3.4 | 4.5 | 1.6 |\n",
       "| 91 | 5.5 | 2.6 | 4.4 | 1.2 |\n",
       "| 99 | 5.1 | 2.5 | 3.0 | 1.1 |\n",
       "| 100 | 5.7 | 2.8 | 4.1 | 1.3 |\n",
       "| 113 | 6.8 | 3.0 | 5.5 | 2.1 |\n",
       "| 114 | 5.7 | 2.5 | 5.0 | 2.0 |\n",
       "| 115 | 5.8 | 2.8 | 5.1 | 2.4 |\n",
       "| 116 | 6.4 | 3.2 | 5.3 | 2.3 |\n",
       "| 118 | 7.7 | 3.8 | 6.7 | 2.2 |\n",
       "| 120 | 6.0 | 2.2 | 5.0 | 1.5 |\n",
       "| 123 | 7.7 | 2.8 | 6.7 | 2.0 |\n",
       "| 130 | 7.2 | 3.0 | 5.8 | 1.6 |\n",
       "| 131 | 7.4 | 2.8 | 6.1 | 1.9 |\n",
       "| 133 | 6.4 | 2.8 | 5.6 | 2.2 |\n",
       "| 134 | 6.3 | 2.8 | 5.1 | 1.5 |\n",
       "| 135 | 6.1 | 2.6 | 5.6 | 1.4 |\n",
       "| 139 | 6.0 | 3.0 | 4.8 | 1.8 |\n",
       "| 143 | 5.8 | 2.7 | 5.1 | 1.9 |\n",
       "| 144 | 6.8 | 3.2 | 5.9 | 2.3 |\n",
       "| 146 | 6.7 | 3.0 | 5.2 | 2.3 |\n",
       "| 147 | 6.3 | 2.5 | 5.0 | 1.9 |\n",
       "| 148 | 6.5 | 3.0 | 5.2 | 2.0 |\n",
       "\n"
      ],
      "text/plain": [
       "    Sepal.Length Sepal.Width Petal.Length Petal.Width\n",
       "1   5.1          3.5         1.4          0.2        \n",
       "6   5.4          3.9         1.7          0.4        \n",
       "7   4.6          3.4         1.4          0.3        \n",
       "8   5.0          3.4         1.5          0.2        \n",
       "12  4.8          3.4         1.6          0.2        \n",
       "14  4.3          3.0         1.1          0.1        \n",
       "16  5.7          4.4         1.5          0.4        \n",
       "18  5.1          3.5         1.4          0.3        \n",
       "19  5.7          3.8         1.7          0.3        \n",
       "22  5.1          3.7         1.5          0.4        \n",
       "25  4.8          3.4         1.9          0.2        \n",
       "26  5.0          3.0         1.6          0.2        \n",
       "28  5.2          3.5         1.5          0.2        \n",
       "30  4.7          3.2         1.6          0.2        \n",
       "35  4.9          3.1         1.5          0.2        \n",
       "37  5.5          3.5         1.3          0.2        \n",
       "38  4.9          3.6         1.4          0.1        \n",
       "39  4.4          3.0         1.3          0.2        \n",
       "41  5.0          3.5         1.3          0.3        \n",
       "43  4.4          3.2         1.3          0.2        \n",
       "46  4.8          3.0         1.4          0.3        \n",
       "53  6.9          3.1         4.9          1.5        \n",
       "55  6.5          2.8         4.6          1.5        \n",
       "61  5.0          2.0         3.5          1.0        \n",
       "64  6.1          2.9         4.7          1.4        \n",
       "65  5.6          2.9         3.6          1.3        \n",
       "71  5.9          3.2         4.8          1.8        \n",
       "72  6.1          2.8         4.0          1.3        \n",
       "86  6.0          3.4         4.5          1.6        \n",
       "91  5.5          2.6         4.4          1.2        \n",
       "99  5.1          2.5         3.0          1.1        \n",
       "100 5.7          2.8         4.1          1.3        \n",
       "113 6.8          3.0         5.5          2.1        \n",
       "114 5.7          2.5         5.0          2.0        \n",
       "115 5.8          2.8         5.1          2.4        \n",
       "116 6.4          3.2         5.3          2.3        \n",
       "118 7.7          3.8         6.7          2.2        \n",
       "120 6.0          2.2         5.0          1.5        \n",
       "123 7.7          2.8         6.7          2.0        \n",
       "130 7.2          3.0         5.8          1.6        \n",
       "131 7.4          2.8         6.1          1.9        \n",
       "133 6.4          2.8         5.6          2.2        \n",
       "134 6.3          2.8         5.1          1.5        \n",
       "135 6.1          2.6         5.6          1.4        \n",
       "139 6.0          3.0         4.8          1.8        \n",
       "143 5.8          2.7         5.1          1.9        \n",
       "144 6.8          3.2         5.9          2.3        \n",
       "146 6.7          3.0         5.2          2.3        \n",
       "147 6.3          2.5         5.0          1.9        \n",
       "148 6.5          3.0         5.2          2.0        "
      ]
     },
     "metadata": {},
     "output_type": "display_data"
    },
    {
     "data": {
      "text/html": [
       "<ol class=list-inline>\n",
       "\t<li>setosa</li>\n",
       "\t<li>setosa</li>\n",
       "\t<li>setosa</li>\n",
       "\t<li>setosa</li>\n",
       "\t<li>setosa</li>\n",
       "\t<li>setosa</li>\n",
       "\t<li>setosa</li>\n",
       "\t<li>setosa</li>\n",
       "\t<li>setosa</li>\n",
       "\t<li>setosa</li>\n",
       "\t<li>setosa</li>\n",
       "\t<li>setosa</li>\n",
       "\t<li>setosa</li>\n",
       "\t<li>setosa</li>\n",
       "\t<li>setosa</li>\n",
       "\t<li>setosa</li>\n",
       "\t<li>setosa</li>\n",
       "\t<li>setosa</li>\n",
       "\t<li>setosa</li>\n",
       "\t<li>setosa</li>\n",
       "\t<li>setosa</li>\n",
       "\t<li>versicolor</li>\n",
       "\t<li>versicolor</li>\n",
       "\t<li>versicolor</li>\n",
       "\t<li>versicolor</li>\n",
       "\t<li>versicolor</li>\n",
       "\t<li>versicolor</li>\n",
       "\t<li>versicolor</li>\n",
       "\t<li>versicolor</li>\n",
       "\t<li>versicolor</li>\n",
       "\t<li>versicolor</li>\n",
       "\t<li>versicolor</li>\n",
       "\t<li>virginica</li>\n",
       "\t<li>virginica</li>\n",
       "\t<li>virginica</li>\n",
       "\t<li>virginica</li>\n",
       "\t<li>virginica</li>\n",
       "\t<li>virginica</li>\n",
       "\t<li>virginica</li>\n",
       "\t<li>virginica</li>\n",
       "\t<li>virginica</li>\n",
       "\t<li>virginica</li>\n",
       "\t<li>virginica</li>\n",
       "\t<li>virginica</li>\n",
       "\t<li>virginica</li>\n",
       "\t<li>virginica</li>\n",
       "\t<li>virginica</li>\n",
       "\t<li>virginica</li>\n",
       "\t<li>virginica</li>\n",
       "\t<li>virginica</li>\n",
       "</ol>\n",
       "\n",
       "<details>\n",
       "\t<summary style=display:list-item;cursor:pointer>\n",
       "\t\t<strong>Levels</strong>:\n",
       "\t</summary>\n",
       "\t<ol class=list-inline>\n",
       "\t\t<li>'setosa'</li>\n",
       "\t\t<li>'versicolor'</li>\n",
       "\t\t<li>'virginica'</li>\n",
       "\t</ol>\n",
       "</details>"
      ],
      "text/latex": [
       "\\begin{enumerate*}\n",
       "\\item setosa\n",
       "\\item setosa\n",
       "\\item setosa\n",
       "\\item setosa\n",
       "\\item setosa\n",
       "\\item setosa\n",
       "\\item setosa\n",
       "\\item setosa\n",
       "\\item setosa\n",
       "\\item setosa\n",
       "\\item setosa\n",
       "\\item setosa\n",
       "\\item setosa\n",
       "\\item setosa\n",
       "\\item setosa\n",
       "\\item setosa\n",
       "\\item setosa\n",
       "\\item setosa\n",
       "\\item setosa\n",
       "\\item setosa\n",
       "\\item setosa\n",
       "\\item versicolor\n",
       "\\item versicolor\n",
       "\\item versicolor\n",
       "\\item versicolor\n",
       "\\item versicolor\n",
       "\\item versicolor\n",
       "\\item versicolor\n",
       "\\item versicolor\n",
       "\\item versicolor\n",
       "\\item versicolor\n",
       "\\item versicolor\n",
       "\\item virginica\n",
       "\\item virginica\n",
       "\\item virginica\n",
       "\\item virginica\n",
       "\\item virginica\n",
       "\\item virginica\n",
       "\\item virginica\n",
       "\\item virginica\n",
       "\\item virginica\n",
       "\\item virginica\n",
       "\\item virginica\n",
       "\\item virginica\n",
       "\\item virginica\n",
       "\\item virginica\n",
       "\\item virginica\n",
       "\\item virginica\n",
       "\\item virginica\n",
       "\\item virginica\n",
       "\\end{enumerate*}\n",
       "\n",
       "\\emph{Levels}: \\begin{enumerate*}\n",
       "\\item 'setosa'\n",
       "\\item 'versicolor'\n",
       "\\item 'virginica'\n",
       "\\end{enumerate*}\n"
      ],
      "text/markdown": [
       "1. setosa\n",
       "2. setosa\n",
       "3. setosa\n",
       "4. setosa\n",
       "5. setosa\n",
       "6. setosa\n",
       "7. setosa\n",
       "8. setosa\n",
       "9. setosa\n",
       "10. setosa\n",
       "11. setosa\n",
       "12. setosa\n",
       "13. setosa\n",
       "14. setosa\n",
       "15. setosa\n",
       "16. setosa\n",
       "17. setosa\n",
       "18. setosa\n",
       "19. setosa\n",
       "20. setosa\n",
       "21. setosa\n",
       "22. versicolor\n",
       "23. versicolor\n",
       "24. versicolor\n",
       "25. versicolor\n",
       "26. versicolor\n",
       "27. versicolor\n",
       "28. versicolor\n",
       "29. versicolor\n",
       "30. versicolor\n",
       "31. versicolor\n",
       "32. versicolor\n",
       "33. virginica\n",
       "34. virginica\n",
       "35. virginica\n",
       "36. virginica\n",
       "37. virginica\n",
       "38. virginica\n",
       "39. virginica\n",
       "40. virginica\n",
       "41. virginica\n",
       "42. virginica\n",
       "43. virginica\n",
       "44. virginica\n",
       "45. virginica\n",
       "46. virginica\n",
       "47. virginica\n",
       "48. virginica\n",
       "49. virginica\n",
       "50. virginica\n",
       "\n",
       "\n",
       "\n",
       "**Levels**: 1. 'setosa'\n",
       "2. 'versicolor'\n",
       "3. 'virginica'\n",
       "\n",
       "\n"
      ],
      "text/plain": [
       " [1] setosa     setosa     setosa     setosa     setosa     setosa    \n",
       " [7] setosa     setosa     setosa     setosa     setosa     setosa    \n",
       "[13] setosa     setosa     setosa     setosa     setosa     setosa    \n",
       "[19] setosa     setosa     setosa     versicolor versicolor versicolor\n",
       "[25] versicolor versicolor versicolor versicolor versicolor versicolor\n",
       "[31] versicolor versicolor virginica  virginica  virginica  virginica \n",
       "[37] virginica  virginica  virginica  virginica  virginica  virginica \n",
       "[43] virginica  virginica  virginica  virginica  virginica  virginica \n",
       "[49] virginica  virginica \n",
       "Levels: setosa versicolor virginica"
      ]
     },
     "metadata": {},
     "output_type": "display_data"
    }
   ],
   "source": [
    "val[, -5]\n",
    "val[, 5]"
   ]
  },
  {
   "cell_type": "code",
   "execution_count": 10,
   "metadata": {},
   "outputs": [],
   "source": [
    "pred = predict(model.dis, newdata = val[,-5], type = \"class\")"
   ]
  },
  {
   "cell_type": "code",
   "execution_count": 11,
   "metadata": {},
   "outputs": [
    {
     "data": {
      "text/html": [
       "<ol class=list-inline>\n",
       "\t<li>'setosa'</li>\n",
       "\t<li>'setosa'</li>\n",
       "\t<li>'setosa'</li>\n",
       "\t<li>'setosa'</li>\n",
       "\t<li>'setosa'</li>\n",
       "\t<li>'setosa'</li>\n",
       "\t<li>'setosa'</li>\n",
       "\t<li>'setosa'</li>\n",
       "\t<li>'setosa'</li>\n",
       "\t<li>'setosa'</li>\n",
       "\t<li>'setosa'</li>\n",
       "\t<li>'setosa'</li>\n",
       "\t<li>'setosa'</li>\n",
       "\t<li>'setosa'</li>\n",
       "\t<li>'setosa'</li>\n",
       "\t<li>'setosa'</li>\n",
       "\t<li>'setosa'</li>\n",
       "\t<li>'setosa'</li>\n",
       "\t<li>'setosa'</li>\n",
       "\t<li>'setosa'</li>\n",
       "\t<li>'setosa'</li>\n",
       "\t<li>'versicolor'</li>\n",
       "\t<li>'versicolor'</li>\n",
       "\t<li>'versicolor'</li>\n",
       "\t<li>'versicolor'</li>\n",
       "\t<li>'versicolor'</li>\n",
       "\t<li>'virginica'</li>\n",
       "\t<li>'versicolor'</li>\n",
       "\t<li>'versicolor'</li>\n",
       "\t<li>'versicolor'</li>\n",
       "\t<li>'versicolor'</li>\n",
       "\t<li>'versicolor'</li>\n",
       "\t<li>'virginica'</li>\n",
       "\t<li>'virginica'</li>\n",
       "\t<li>'virginica'</li>\n",
       "\t<li>'virginica'</li>\n",
       "\t<li>'virginica'</li>\n",
       "\t<li>'versicolor'</li>\n",
       "\t<li>'virginica'</li>\n",
       "\t<li>'versicolor'</li>\n",
       "\t<li>'virginica'</li>\n",
       "\t<li>'virginica'</li>\n",
       "\t<li>'versicolor'</li>\n",
       "\t<li>'versicolor'</li>\n",
       "\t<li>'virginica'</li>\n",
       "\t<li>'virginica'</li>\n",
       "\t<li>'virginica'</li>\n",
       "\t<li>'virginica'</li>\n",
       "\t<li>'virginica'</li>\n",
       "\t<li>'virginica'</li>\n",
       "</ol>\n"
      ],
      "text/latex": [
       "\\begin{enumerate*}\n",
       "\\item 'setosa'\n",
       "\\item 'setosa'\n",
       "\\item 'setosa'\n",
       "\\item 'setosa'\n",
       "\\item 'setosa'\n",
       "\\item 'setosa'\n",
       "\\item 'setosa'\n",
       "\\item 'setosa'\n",
       "\\item 'setosa'\n",
       "\\item 'setosa'\n",
       "\\item 'setosa'\n",
       "\\item 'setosa'\n",
       "\\item 'setosa'\n",
       "\\item 'setosa'\n",
       "\\item 'setosa'\n",
       "\\item 'setosa'\n",
       "\\item 'setosa'\n",
       "\\item 'setosa'\n",
       "\\item 'setosa'\n",
       "\\item 'setosa'\n",
       "\\item 'setosa'\n",
       "\\item 'versicolor'\n",
       "\\item 'versicolor'\n",
       "\\item 'versicolor'\n",
       "\\item 'versicolor'\n",
       "\\item 'versicolor'\n",
       "\\item 'virginica'\n",
       "\\item 'versicolor'\n",
       "\\item 'versicolor'\n",
       "\\item 'versicolor'\n",
       "\\item 'versicolor'\n",
       "\\item 'versicolor'\n",
       "\\item 'virginica'\n",
       "\\item 'virginica'\n",
       "\\item 'virginica'\n",
       "\\item 'virginica'\n",
       "\\item 'virginica'\n",
       "\\item 'versicolor'\n",
       "\\item 'virginica'\n",
       "\\item 'versicolor'\n",
       "\\item 'virginica'\n",
       "\\item 'virginica'\n",
       "\\item 'versicolor'\n",
       "\\item 'versicolor'\n",
       "\\item 'virginica'\n",
       "\\item 'virginica'\n",
       "\\item 'virginica'\n",
       "\\item 'virginica'\n",
       "\\item 'virginica'\n",
       "\\item 'virginica'\n",
       "\\end{enumerate*}\n"
      ],
      "text/markdown": [
       "1. 'setosa'\n",
       "2. 'setosa'\n",
       "3. 'setosa'\n",
       "4. 'setosa'\n",
       "5. 'setosa'\n",
       "6. 'setosa'\n",
       "7. 'setosa'\n",
       "8. 'setosa'\n",
       "9. 'setosa'\n",
       "10. 'setosa'\n",
       "11. 'setosa'\n",
       "12. 'setosa'\n",
       "13. 'setosa'\n",
       "14. 'setosa'\n",
       "15. 'setosa'\n",
       "16. 'setosa'\n",
       "17. 'setosa'\n",
       "18. 'setosa'\n",
       "19. 'setosa'\n",
       "20. 'setosa'\n",
       "21. 'setosa'\n",
       "22. 'versicolor'\n",
       "23. 'versicolor'\n",
       "24. 'versicolor'\n",
       "25. 'versicolor'\n",
       "26. 'versicolor'\n",
       "27. 'virginica'\n",
       "28. 'versicolor'\n",
       "29. 'versicolor'\n",
       "30. 'versicolor'\n",
       "31. 'versicolor'\n",
       "32. 'versicolor'\n",
       "33. 'virginica'\n",
       "34. 'virginica'\n",
       "35. 'virginica'\n",
       "36. 'virginica'\n",
       "37. 'virginica'\n",
       "38. 'versicolor'\n",
       "39. 'virginica'\n",
       "40. 'versicolor'\n",
       "41. 'virginica'\n",
       "42. 'virginica'\n",
       "43. 'versicolor'\n",
       "44. 'versicolor'\n",
       "45. 'virginica'\n",
       "46. 'virginica'\n",
       "47. 'virginica'\n",
       "48. 'virginica'\n",
       "49. 'virginica'\n",
       "50. 'virginica'\n",
       "\n",
       "\n"
      ],
      "text/plain": [
       " [1] \"setosa\"     \"setosa\"     \"setosa\"     \"setosa\"     \"setosa\"    \n",
       " [6] \"setosa\"     \"setosa\"     \"setosa\"     \"setosa\"     \"setosa\"    \n",
       "[11] \"setosa\"     \"setosa\"     \"setosa\"     \"setosa\"     \"setosa\"    \n",
       "[16] \"setosa\"     \"setosa\"     \"setosa\"     \"setosa\"     \"setosa\"    \n",
       "[21] \"setosa\"     \"versicolor\" \"versicolor\" \"versicolor\" \"versicolor\"\n",
       "[26] \"versicolor\" \"virginica\"  \"versicolor\" \"versicolor\" \"versicolor\"\n",
       "[31] \"versicolor\" \"versicolor\" \"virginica\"  \"virginica\"  \"virginica\" \n",
       "[36] \"virginica\"  \"virginica\"  \"versicolor\" \"virginica\"  \"versicolor\"\n",
       "[41] \"virginica\"  \"virginica\"  \"versicolor\" \"versicolor\" \"virginica\" \n",
       "[46] \"virginica\"  \"virginica\"  \"virginica\"  \"virginica\"  \"virginica\" "
      ]
     },
     "metadata": {},
     "output_type": "display_data"
    }
   ],
   "source": [
    "pred"
   ]
  },
  {
   "cell_type": "code",
   "execution_count": 12,
   "metadata": {},
   "outputs": [
    {
     "data": {
      "text/plain": [
       "            \n",
       "pred         setosa versicolor virginica\n",
       "  setosa         21          0         0\n",
       "  versicolor      0         10         4\n",
       "  virginica       0          1        14"
      ]
     },
     "metadata": {},
     "output_type": "display_data"
    }
   ],
   "source": [
    "mat = table(pred, val[, 5])\n",
    "taux = sum(diag(mat))/ sum(mat)\n",
    "mat"
   ]
  },
  {
   "cell_type": "code",
   "execution_count": 13,
   "metadata": {},
   "outputs": [
    {
     "data": {
      "text/html": [
       "0.9"
      ],
      "text/latex": [
       "0.9"
      ],
      "text/markdown": [
       "0.9"
      ],
      "text/plain": [
       "[1] 0.9"
      ]
     },
     "metadata": {},
     "output_type": "display_data"
    }
   ],
   "source": [
    "taux"
   ]
  },
  {
   "cell_type": "code",
   "execution_count": 14,
   "metadata": {},
   "outputs": [
    {
     "name": "stderr",
     "output_type": "stream",
     "text": [
      "Warning message:\n",
      "\"package 'e1071' was built under R version 3.6.2\""
     ]
    }
   ],
   "source": [
    "library(e1071)\n"
   ]
  },
  {
   "cell_type": "code",
   "execution_count": 15,
   "metadata": {},
   "outputs": [],
   "source": [
    "tune.model = tune.nnet(Species~., data = app, size = c(1, 3, 5),\n",
    "decay = c(0.1,0.001,0.000001))"
   ]
  },
  {
   "cell_type": "code",
   "execution_count": 16,
   "metadata": {},
   "outputs": [
    {
     "data": {
      "image/png": "[encoded data removed]",
      "text/plain": [
       "Plot with title \"Performance of `nnet'\""
      ]
     },
     "metadata": {},
     "output_type": "display_data"
    }
   ],
   "source": [
    "plot(tune.model)"
   ]
  },
  {
   "cell_type": "code",
   "execution_count": 17,
   "metadata": {},
   "outputs": [
    {
     "data": {
      "text/plain": [
       "\n",
       "Parameter tuning of 'nnet':\n",
       "\n",
       "- sampling method: 10-fold cross validation \n",
       "\n",
       "- best parameters:\n",
       " size decay\n",
       "    3   0.1\n",
       "\n",
       "- best performance: 0.01 \n"
      ]
     },
     "metadata": {},
     "output_type": "display_data"
    }
   ],
   "source": [
    "tune.model"
   ]
  },
  {
   "cell_type": "code",
   "execution_count": 18,
   "metadata": {},
   "outputs": [
    {
     "name": "stdout",
     "output_type": "stream",
     "text": [
      "# weights:  27\n",
      "initial  value 122.323051 \n",
      "iter  10 value 28.769850\n",
      "iter  20 value 20.598844\n",
      "iter  30 value 19.563461\n",
      "final  value 19.563437 \n",
      "converged\n"
     ]
    }
   ],
   "source": [
    "model = nnet(Species~., data = app, size = 3, decay = 0.1, maxit = 100)"
   ]
  },
  {
   "cell_type": "code",
   "execution_count": 19,
   "metadata": {},
   "outputs": [
    {
     "data": {
      "text/plain": [
       "a 4-3-3 network with 27 weights\n",
       "options were - softmax modelling  decay=0.1\n",
       " b->h1 i1->h1 i2->h1 i3->h1 i4->h1 \n",
       "  2.80   1.57   1.05  -1.88  -3.90 \n",
       " b->h2 i1->h2 i2->h2 i3->h2 i4->h2 \n",
       "  0.22   0.38   1.13  -1.93  -0.78 \n",
       " b->h3 i1->h3 i2->h3 i3->h3 i4->h3 \n",
       " -0.23  -0.33  -0.92   1.40   0.68 \n",
       " b->o1 h1->o1 h2->o1 h3->o1 \n",
       " -0.07   0.99   3.08  -2.87 \n",
       " b->o2 h1->o2 h2->o2 h3->o2 \n",
       " -1.32   3.79  -2.82   0.86 \n",
       " b->o3 h1->o3 h2->o3 h3->o3 \n",
       "  1.39  -4.78  -0.26   2.01 "
      ]
     },
     "metadata": {},
     "output_type": "display_data"
    }
   ],
   "source": [
    "summary(model)"
   ]
  },
  {
   "cell_type": "code",
   "execution_count": 20,
   "metadata": {},
   "outputs": [
    {
     "data": {
      "text/plain": [
       "            \n",
       "pred         setosa versicolor virginica\n",
       "  setosa         21          0         0\n",
       "  versicolor      0         10         2\n",
       "  virginica       0          1        16"
      ]
     },
     "metadata": {},
     "output_type": "display_data"
    },
    {
     "data": {
      "text/html": [
       "0.94"
      ],
      "text/latex": [
       "0.94"
      ],
      "text/markdown": [
       "0.94"
      ],
      "text/plain": [
       "[1] 0.94"
      ]
     },
     "metadata": {},
     "output_type": "display_data"
    }
   ],
   "source": [
    "pred = predict(model, newdata = val[,-5], type = \"class\")\n",
    "mat = table(pred, val[, 5])\n",
    "taux = sum(diag(mat))/ sum(mat)\n",
    "mat\n",
    "taux\n"
   ]
  },
  {
   "cell_type": "code",
   "execution_count": 21,
   "metadata": {},
   "outputs": [
    {
     "data": {
      "image/png": "[encoded data removed]",
      "text/plain": [
       "Plot with title \"Arbre de discrimination\""
      ]
     },
     "metadata": {},
     "output_type": "display_data"
    }
   ],
   "source": [
    "library(rpart)\n",
    "model = rpart(Species~., data = app, method = \"class\")\n",
    "plot(model, uniform = TRUE, branch = 0.5, margin = 0.1, main = \"Arbre de discrimination\")\n",
    "text(model, all = FALSE, use.n = TRUE)"
   ]
  },
  {
   "cell_type": "code",
   "execution_count": 22,
   "metadata": {},
   "outputs": [],
   "source": [
    "tune.model = tune.rpart (Species~., data = app, minsplit = c (15, 20, 25), cp = c (0.00001,\n",
    "0.000001), maxcompete = 4, maxsurrogate = 5,\n",
    "usesurrogate = 2, xval = c (10, 15), surrogatestyle = 0, maxdepth = c (25, 30))"
   ]
  },
  {
   "cell_type": "code",
   "execution_count": 23,
   "metadata": {},
   "outputs": [
    {
     "data": {
      "text/plain": [
       "\n",
       "Parameter tuning of 'rpart.wrapper':\n",
       "\n",
       "- sampling method: 10-fold cross validation \n",
       "\n",
       "- best parameters:\n",
       " minsplit    cp maxcompete maxsurrogate usesurrogate xval surrogatestyle\n",
       "       15 1e-05          4            5            2   10              0\n",
       " maxdepth\n",
       "       25\n",
       "\n",
       "- best performance: 0.02 \n"
      ]
     },
     "metadata": {},
     "output_type": "display_data"
    }
   ],
   "source": [
    "tune.model"
   ]
  },
  {
   "cell_type": "code",
   "execution_count": 24,
   "metadata": {},
   "outputs": [
    {
     "data": {
      "image/png": "[encoded data removed]",
      "text/plain": [
       "Plot with title \"Arbre de decision 2\""
      ]
     },
     "metadata": {},
     "output_type": "display_data"
    }
   ],
   "source": [
    "model = rpart(Species~., data = app, method = \"class\",\n",
    "control = rpart.control (cp = 0.00001, minsplit = 15, maxcompete = 4, maxsurrogate = 5,\n",
    "usesurrogate = 2, xval = 10, surrogatestyle = 0, maxdepth = 25))\n",
    "cpTab = as.data.frame(model $ cptable)\n",
    "ind = cpTab $ xerror + cpTab $ xstd\n",
    "cpTab = cbind.data.frame(cpTab, ind)\n",
    "monCp = cpTab[which.min(cpTab $ ind), \"CP\"]\n",
    "elag = prune(model, cp = monCp)\n",
    "plot(elag, uniform = TRUE, branch = 0.5, margin = 0.1, main = \"Arbre de decision 2\")\n",
    "text(elag, all = FALSE, use.n = TRUE, cex = 0.6)"
   ]
  },
  {
   "cell_type": "code",
   "execution_count": 25,
   "metadata": {},
   "outputs": [],
   "source": [
    "prev = predict(elag, newdata = val[,-5], type = \"class\")"
   ]
  },
  {
   "cell_type": "code",
   "execution_count": 26,
   "metadata": {},
   "outputs": [
    {
     "data": {
      "text/plain": [
       "            \n",
       "prev         setosa versicolor virginica\n",
       "  setosa         21          0         0\n",
       "  versicolor      0         10         4\n",
       "  virginica       0          1        14"
      ]
     },
     "metadata": {},
     "output_type": "display_data"
    },
    {
     "data": {
      "text/html": [
       "0.9"
      ],
      "text/latex": [
       "0.9"
      ],
      "text/markdown": [
       "0.9"
      ],
      "text/plain": [
       "[1] 0.9"
      ]
     },
     "metadata": {},
     "output_type": "display_data"
    }
   ],
   "source": [
    "mat = table(prev, val[, 5])\n",
    "taux = sum(diag(mat))/ sum(mat)\n",
    "mat\n",
    "taux"
   ]
  },
  {
   "cell_type": "code",
   "execution_count": null,
   "metadata": {},
   "outputs": [],
   "source": []
  }
 ],
 "metadata": {
  "hide_input": false,
  "kernelspec": {
   "display_name": "R",
   "language": "R",
   "name": "ir"
  },
  "language_info": {
   "codemirror_mode": "r",
   "file_extension": ".r",
   "mimetype": "text/x-r-source",
   "name": "R",
   "pygments_lexer": "r",
   "version": "3.6.1"
  }
 },
 "nbformat": 4,
 "nbformat_minor": 2
}
