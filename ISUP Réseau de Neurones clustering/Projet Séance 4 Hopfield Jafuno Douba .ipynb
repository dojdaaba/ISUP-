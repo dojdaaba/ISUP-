{
 "cells": [
  {
   "cell_type": "markdown",
   "metadata": {},
   "source": [
    "## Trajectoire synchrone "
   ]
  },
  {
   "cell_type": "code",
   "execution_count": 2,
   "metadata": {},
   "outputs": [],
   "source": [
    "#fonction d'activation\n",
    "def f(x):\n",
    "    if( x> 0): \n",
    "        return 1\n",
    "    else:\n",
    "        return 0\n",
    "    \n",
    "def e(W,a0):   \n",
    "    return W*a0; \n",
    "\n",
    "#fonction d'activation sur chaque élément d'un vecteur a\n",
    "def F(a):\n",
    "    b=vector( f(i) for i in a)\n",
    "    return b\n",
    "\n",
    "#fonction qui renvoie une liste contenant les vecteurs a(1), a(2)...a(n), ai(t+1)=f(ei(t)),\n",
    "#la liste des évolutions de chaque vecteur à la suite pour la trajectoire synchrone\n",
    "def trajsynch(W,a0): \n",
    "    a=list()\n",
    "    a.append(a0)\n",
    "    for i in range(0,W.nrows()-1): # on s'arrete à la taille de a0 comme dans le cours \n",
    "        a0=F(e(W,a0)) #ai(t+1)=f(ei(t)) on applique directement f au vecteur obtenue \n",
    "        a.append(a0) \n",
    "    return a"
   ]
  },
  {
   "cell_type": "markdown",
   "metadata": {},
   "source": [
    "Chemin à partir de b9"
   ]
  },
  {
   "cell_type": "code",
   "execution_count": 6,
   "metadata": {},
   "outputs": [
    {
     "data": {
      "text/plain": [
       "[(0, 1, 0, 1), (0, 0, 1, 0), (1, 1, 0, 1), (0, 0, 1, 0)]"
      ]
     },
     "execution_count": 6,
     "metadata": {},
     "output_type": "execute_result"
    }
   ],
   "source": [
    "W=matrix(4,[0,-1,1,1,-1,0,1,-1,1,1,0,1,1,-1,1,0]); #Matrice \n",
    "a0=vector([0,1,0,1])# départ b12\n",
    "trajsynch(W,a0)"
   ]
  },
  {
   "cell_type": "markdown",
   "metadata": {},
   "source": [
    "On obtient b9, b3, b12, b3"
   ]
  },
  {
   "cell_type": "markdown",
   "metadata": {},
   "source": [
    "## Trajectoire asynchrone"
   ]
  },
  {
   "cell_type": "code",
   "execution_count": 26,
   "metadata": {},
   "outputs": [],
   "source": [
    "#fonction d'activation\n",
    "def f(x):\n",
    "    if( x> 0): \n",
    "        return 1\n",
    "    else:\n",
    "        return 0\n",
    "\n",
    "def e(W,a0):   \n",
    "    return W*a0; \n",
    "\n",
    "# fonction qui calcule le vecteur a_n+1 en fonction de a_n pour la trajectoire asynchrone qui est ici a0 le vecteur départ\n",
    "def liaison(W,a0): \n",
    "    a=copy(a0)\n",
    "    for i in range(0,W.nrows()):\n",
    "        a[i]=f(e(W[i],a))#On calcul a_n+1(i)=f(e_n(i)) en changeant directement les valeurs de a copie de a0 puis on applique f\n",
    "                        #Ainsi de suite on multiplie la ième ligne de la matrice avec le ième vecteur qu'on obtient \n",
    "                        #après avoir changer la i-1 eme coordonnée du vecteur de départ\n",
    "    return a\n",
    "\n",
    "#fonction qui revoie la liste a(0),a(1)...a(N) ie la liste des évolutions de chaque vecteur dans la trajectoire asynchrone \n",
    "def trajasynch(W,a0):\n",
    "    c =list()\n",
    "    c.append(a0)\n",
    "    for n in range(1,W.nrows()): # \n",
    "        a0=liaison(W,a0) #comme une suite u_n+1 = liaison(u_n)\n",
    "        c.append(a0)  # On ajoute chaque vecteur qu'on obtient par liaison\n",
    "    return c "
   ]
  },
  {
   "cell_type": "markdown",
   "metadata": {},
   "source": [
    "trajectoire à partir de b12"
   ]
  },
  {
   "cell_type": "code",
   "execution_count": 27,
   "metadata": {},
   "outputs": [
    {
     "data": {
      "text/plain": [
       "[(1, 1, 0, 1), (0, 0, 1, 1), (1, 0, 1, 1), (1, 0, 1, 1)]"
      ]
     },
     "execution_count": 27,
     "metadata": {},
     "output_type": "execute_result"
    }
   ],
   "source": [
    "W=matrix(4,[0,-1,1,1,-1,0,1,-1,1,1,0,1,1,-1,1,0]); #Matrice \n",
    "a0=vector([1,1,0,1])# départ b12\n",
    "trajasynch(W,a0)"
   ]
  },
  {
   "cell_type": "markdown",
   "metadata": {},
   "source": [
    "On obtient b12, b10, b13, b13"
   ]
  },
  {
   "cell_type": "markdown",
   "metadata": {},
   "source": [
    "## Fonction d'énergie"
   ]
  },
  {
   "cell_type": "markdown",
   "metadata": {},
   "source": [
    "### Synchrone"
   ]
  },
  {
   "cell_type": "code",
   "execution_count": 28,
   "metadata": {},
   "outputs": [],
   "source": [
    "def Energie(W,a0):\n",
    "    return -a0*e(W,a0)  #fonction qui retourne l'energie\n",
    "\n",
    "#Fonction qui calcule le vecteur des énergies E(0),E(1)...E(N) pour les trajectoires Synchrones\n",
    "def Energiesynch(W,a0): \n",
    "    d=list()\n",
    "    c = trajsynch(W,a0)  # On calcules les vecteurs constituant la trajectoire synchrone en partant de a0\n",
    "    for i in c:\n",
    "        d.append(Energie(W,i))#on calcul l'énergie de chaque vecteur dans notre ajectoire synchrone \n",
    "    return d # On renvoie la liste des energies des vecteurs constituant la trajectoire      "
   ]
  },
  {
   "cell_type": "markdown",
   "metadata": {},
   "source": [
    "à partir de b14"
   ]
  },
  {
   "cell_type": "code",
   "execution_count": 29,
   "metadata": {},
   "outputs": [
    {
     "name": "stdout",
     "output_type": "stream",
     "text": [
      "[(0, 1, 1, 1), (1, 0, 1, 0), (1, 0, 1, 1), (1, 0, 1, 1)]\n",
      "[-2, -2, -6, -6]\n"
     ]
    }
   ],
   "source": [
    "W=matrix([[0,-1,1,1],[-1,0,1,-1],[1,1,0,1],[1,-1,1,0]]) #Matrice du cours\n",
    "a0=vector([0,1,1,1])# départ b14\n",
    "print(trajsynch(W,a0))\n",
    "print(Energiesynch(W,a0))"
   ]
  },
  {
   "cell_type": "markdown",
   "metadata": {},
   "source": [
    "On obtient b14 b6 b13 b13  et E[1]=-2, E[2]=-2, E[3]=-6, E[4]=-6"
   ]
  },
  {
   "cell_type": "markdown",
   "metadata": {},
   "source": [
    " ### Asynchrone"
   ]
  },
  {
   "cell_type": "code",
   "execution_count": 15,
   "metadata": {},
   "outputs": [],
   "source": [
    "#Fonction qui calcule le vecteur des énergies E(0),E(1)...E(N) pour les trajectoires Asynchrones\n",
    "def Energieasynch(W,a0): \n",
    "    d=list()\n",
    "    c = trajasynch(W,a0)\n",
    "    for i in c:\n",
    "        d.append(Energie(W,i))\n",
    "    return d     "
   ]
  },
  {
   "cell_type": "markdown",
   "metadata": {},
   "source": [
    "A partir de b14"
   ]
  },
  {
   "cell_type": "code",
   "execution_count": 16,
   "metadata": {},
   "outputs": [
    {
     "name": "stdout",
     "output_type": "stream",
     "text": [
      "[(0, 1, 1, 1), (1, 0, 1, 1), (1, 0, 1, 1), (1, 0, 1, 1)]\n",
      "[-2, -6, -6, -6]\n"
     ]
    }
   ],
   "source": [
    "W=matrix([[0,-1,1,1],[-1,0,1,-1],[1,1,0,1],[1,-1,1,0]]) #Matrice \n",
    "a0=vector([0,1,1,1])# départ b14\n",
    "print(trajasynch(W,a0))\n",
    "print(Energieasynch(W,a0))"
   ]
  },
  {
   "cell_type": "markdown",
   "metadata": {},
   "source": [
    "On obtient b14, b13, b13, b13  et  E[1]=-2, E[2]=-6, E[3]=-6, E[4]=-6"
   ]
  },
  {
   "cell_type": "markdown",
   "metadata": {},
   "source": [
    "# Fonction qui renvoit les départs possible "
   ]
  },
  {
   "cell_type": "markdown",
   "metadata": {},
   "source": [
    "fonction qui renvoie l'écriture en base d'un nombre en un vecteur "
   ]
  },
  {
   "cell_type": "code",
   "execution_count": 30,
   "metadata": {},
   "outputs": [],
   "source": [
    "# Fonction qui renvoie l'écriture en base 2 d'un entier n\n",
    "# n le nombre à ecrire en binaire et N la taille du vecteur de sortit qu'on atteint en rajoutant des 0\n",
    "def binaire(n,N): \n",
    "    d=list()\n",
    "    while(n!=0):          \n",
    "        d.append(n%2)     #On ajoute le reste de la division euclidienne par 2 soit 0 soit 1\n",
    "        n=n//2            #On divise n par 2 en recuperant la partie entiere et n devient cette valeur\n",
    "    while(len(d)!=N):\n",
    "        d.append(0)       #On ajoute les zéros pour avoir un vecteur de taille N si c'est pas le cas \n",
    "    return vector(d[::-1])  # on inverse les element car  l'ecriture binaire commence de droite à gauche\n",
    "\n",
    "def depart_possible(N): #Fonction qui renvoie une liste des départs possibles\n",
    "    d=list()\n",
    "    for i in range(0,2**N):#on affiche l'ecriture binaire de 0 à 2^N-1 exemple pour N = 3, (1,1,1) correspond à 7 = 2^3-1 \n",
    "        d.append(binaire(i,N))\n",
    "    return d"
   ]
  },
  {
   "cell_type": "code",
   "execution_count": 31,
   "metadata": {},
   "outputs": [
    {
     "data": {
      "text/plain": [
       "[(0, 0, 0, 0),\n",
       " (0, 0, 0, 1),\n",
       " (0, 0, 1, 0),\n",
       " (0, 0, 1, 1),\n",
       " (0, 1, 0, 0),\n",
       " (0, 1, 0, 1),\n",
       " (0, 1, 1, 0),\n",
       " (0, 1, 1, 1),\n",
       " (1, 0, 0, 0),\n",
       " (1, 0, 0, 1),\n",
       " (1, 0, 1, 0),\n",
       " (1, 0, 1, 1),\n",
       " (1, 1, 0, 0),\n",
       " (1, 1, 0, 1),\n",
       " (1, 1, 1, 0),\n",
       " (1, 1, 1, 1)]"
      ]
     },
     "execution_count": 31,
     "metadata": {},
     "output_type": "execute_result"
    }
   ],
   "source": [
    "depart_possible(4)   "
   ]
  },
  {
   "cell_type": "markdown",
   "metadata": {},
   "source": [
    "# Fonction qui génère une matrice symétrique aléatoirement"
   ]
  },
  {
   "cell_type": "code",
   "execution_count": 20,
   "metadata": {},
   "outputs": [],
   "source": [
    "def GenMatrix(N):\n",
    "    M=zero_matrix(ZZ,N) #matrice de taille N remplie de 0\n",
    "    for i in range(N):\n",
    "        for j in range(N):\n",
    "            if i!=j:\n",
    "                M[i,j]= randrange(-1, 2, 2) # fonction qui renvoie un nombre au hasard dans {-1,1}\n",
    "                M[j,i] =M[i,j] # matrice symétrique seul les éléments diagonaux resteront nuls\n",
    "    return M"
   ]
  },
  {
   "cell_type": "code",
   "execution_count": 155,
   "metadata": {},
   "outputs": [
    {
     "data": {
      "text/plain": [
       "[ 0  1 -1  1 -1 -1  1]\n",
       "[ 1  0 -1  1 -1  1 -1]\n",
       "[-1 -1  0 -1  1 -1 -1]\n",
       "[ 1  1 -1  0 -1  1  1]\n",
       "[-1 -1  1 -1  0  1  1]\n",
       "[-1  1 -1  1  1  0  1]\n",
       "[ 1 -1 -1  1  1  1  0]"
      ]
     },
     "execution_count": 155,
     "metadata": {},
     "output_type": "execute_result"
    }
   ],
   "source": [
    "GenMatrix(7)"
   ]
  },
  {
   "cell_type": "markdown",
   "metadata": {},
   "source": [
    "# Fonction qui renvoie les trajectoires et energie en partant d'un Vecteur a0 avec une matrice W"
   ]
  },
  {
   "cell_type": "code",
   "execution_count": 22,
   "metadata": {},
   "outputs": [],
   "source": [
    "\n",
    "def rapport(W,a0): \n",
    "    print(\"Pour la Matrice:\\n\",W)\n",
    "    print(\"En partant du point:\",a0)\n",
    "    print(\"la trajectoire synchrone\",trajsynch(W,a0)) # renvoie a = (a(1),a(2),....a(n))\n",
    "    print(\"la trajectoire asynchrone\",trajasynch(W,a0))\n",
    "    print(\"l'energie synchrone\",Energiesynch(W,a0)) # renvoie E=(E(1),....E(N))\n",
    "    print(\"l'energie asynchrone\",Energieasynch(W,a0))\n",
    "    print(\"\\n\")\n"
   ]
  },
  {
   "cell_type": "code",
   "execution_count": 42,
   "metadata": {},
   "outputs": [
    {
     "name": "stdout",
     "output_type": "stream",
     "text": [
      "Pour la Matrice:\n",
      " [ 0 -1  1  1]\n",
      "[-1  0  1 -1]\n",
      "[ 1  1  0  1]\n",
      "[ 1 -1  1  0]\n",
      "En partant du point: (1, 1, 0, 0)\n",
      "la trajectoire synchrone [(1, 1, 0, 0), (0, 0, 1, 0), (1, 1, 0, 1), (0, 0, 1, 0)]\n",
      "la trajectoire asynchrone [(1, 1, 0, 0), (0, 0, 0, 0), (0, 0, 0, 0), (0, 0, 0, 0)]\n",
      "l'energie synchrone [2, 0, 2, 0]\n",
      "l'energie asynchrone [2, 0, 0, 0]\n",
      "\n",
      "\n"
     ]
    }
   ],
   "source": [
    "W=matrix([[0,-1,1,1],[-1,0,1,-1],[1,1,0,1],[1,-1,1,0]]) #On choisit la matrice du cours \n",
    "#Fonction qui renvoie les trajectoires et les energies pour un vecteur de taille N choisis au hazard \n",
    "rapport(W,depart_possible(W.nrows())[12] )  # On a choisit le 3 emz depart possible ici\n"
   ]
  },
  {
   "cell_type": "code",
   "execution_count": 154,
   "metadata": {},
   "outputs": [
    {
     "name": "stdout",
     "output_type": "stream",
     "text": [
      "Pour la Matrice:\n",
      " [ 0  1  1  1]\n",
      "[ 1  0 -1  1]\n",
      "[ 1 -1  0  1]\n",
      "[ 1  1  1  0]\n",
      "En partant du point: (0, 1, 0, 0)\n",
      "la trajectoire synchrone [(0, 1, 0, 0), (1, 0, 0, 1), (1, 1, 1, 1), (1, 1, 1, 1)]\n",
      "la trajectoire asynchrone [(0, 1, 0, 0), (1, 1, 0, 1), (1, 1, 1, 1), (1, 1, 1, 1)]\n",
      "l'energie synchrone [0, -2, -8, -8]\n",
      "l'energie asynchrone [0, -6, -8, -8]\n",
      "\n",
      "\n"
     ]
    }
   ],
   "source": [
    "W=GenMatrix(4) #On choisit une matrice aléatoire de taille 4\n",
    "#Fonction qui renvoie les trajectoires et les energies pour un vecteur de taille N choisis au hazard \n",
    "rapport(W,depart_possible(W.nrows())[4] )  # On a choisit le 4 eme depart possible ici\n"
   ]
  }
 ],
 "metadata": {
  "kernelspec": {
   "display_name": "SageMath 9.0",
   "language": "sage",
   "name": "sagemath"
  },
  "language_info": {
   "codemirror_mode": {
    "name": "ipython",
    "version": 3
   },
   "file_extension": ".py",
   "mimetype": "text/x-python",
   "name": "python",
   "nbconvert_exporter": "python",
   "pygments_lexer": "ipython3",
   "version": "3.7.3"
  }
 },
 "nbformat": 4,
 "nbformat_minor": 2
}
